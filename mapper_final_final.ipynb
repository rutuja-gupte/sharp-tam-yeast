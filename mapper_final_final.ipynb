{
 "cells": [
  {
   "cell_type": "code",
   "execution_count": 1,
   "id": "b73e54d0-67f7-43c8-add4-9378948c687d",
   "metadata": {},
   "outputs": [],
   "source": [
    "from collections import defaultdict\n",
    "from collections import namedtuple\n",
    "import pandas as pd\n",
    "import json\n",
    "import time\n",
    "import copy\n",
    "import matplotlib.pyplot as plt\n",
    "import matplotlib"
   ]
  },
  {
   "cell_type": "code",
   "execution_count": 2,
   "id": "4f7dd757-839d-4b1b-8de0-a3ade640d74e",
   "metadata": {},
   "outputs": [],
   "source": [
    "%matplotlib inline"
   ]
  },
  {
   "cell_type": "code",
   "execution_count": 3,
   "id": "fa12b00e-df17-4676-8ef0-e9962ae1b6d5",
   "metadata": {},
   "outputs": [],
   "source": [
    "t0 = time.time()"
   ]
  },
  {
   "cell_type": "code",
   "execution_count": 4,
   "id": "ca73c686-2f9e-4414-b976-de1cac277bfc",
   "metadata": {},
   "outputs": [
    {
     "data": {
      "text/html": [
       "<div>\n",
       "<style scoped>\n",
       "    .dataframe tbody tr th:only-of-type {\n",
       "        vertical-align: middle;\n",
       "    }\n",
       "\n",
       "    .dataframe tbody tr th {\n",
       "        vertical-align: top;\n",
       "    }\n",
       "\n",
       "    .dataframe thead th {\n",
       "        text-align: right;\n",
       "    }\n",
       "</style>\n",
       "<table border=\"1\" class=\"dataframe\">\n",
       "  <thead>\n",
       "    <tr style=\"text-align: right;\">\n",
       "      <th></th>\n",
       "      <th>chr</th>\n",
       "      <th>start</th>\n",
       "      <th>end</th>\n",
       "      <th>strand</th>\n",
       "      <th>type</th>\n",
       "    </tr>\n",
       "  </thead>\n",
       "  <tbody>\n",
       "    <tr>\n",
       "      <th>0</th>\n",
       "      <td>1.0</td>\n",
       "      <td>335</td>\n",
       "      <td>649</td>\n",
       "      <td>+</td>\n",
       "      <td>gene</td>\n",
       "    </tr>\n",
       "    <tr>\n",
       "      <th>1</th>\n",
       "      <td>1.0</td>\n",
       "      <td>538</td>\n",
       "      <td>792</td>\n",
       "      <td>+</td>\n",
       "      <td>gene</td>\n",
       "    </tr>\n",
       "    <tr>\n",
       "      <th>2</th>\n",
       "      <td>1.0</td>\n",
       "      <td>1807</td>\n",
       "      <td>2169</td>\n",
       "      <td>-</td>\n",
       "      <td>gene</td>\n",
       "    </tr>\n",
       "    <tr>\n",
       "      <th>3</th>\n",
       "      <td>1.0</td>\n",
       "      <td>2480</td>\n",
       "      <td>2707</td>\n",
       "      <td>+</td>\n",
       "      <td>gene</td>\n",
       "    </tr>\n",
       "    <tr>\n",
       "      <th>4</th>\n",
       "      <td>1.0</td>\n",
       "      <td>7013</td>\n",
       "      <td>9049</td>\n",
       "      <td>-</td>\n",
       "      <td>gene</td>\n",
       "    </tr>\n",
       "  </tbody>\n",
       "</table>\n",
       "</div>"
      ],
      "text/plain": [
       "   chr  start   end strand  type\n",
       "0  1.0    335   649      +  gene\n",
       "1  1.0    538   792      +  gene\n",
       "2  1.0   1807  2169      -  gene\n",
       "3  1.0   2480  2707      +  gene\n",
       "4  1.0   7013  9049      -  gene"
      ]
     },
     "execution_count": 4,
     "metadata": {},
     "output_type": "execute_result"
    }
   ],
   "source": [
    "feat = pd.read_table(\"/outs/features.txt\", sep=' ')\n",
    "# feat = pd.read_table(\"test/test_feat.txt\", sep=' ')\n",
    "feat.head()"
   ]
  },
  {
   "cell_type": "markdown",
   "id": "4af795cd-a3dd-4b09-88ce-c352d36d2b6e",
   "metadata": {},
   "source": [
    "Defining a namedtuple here that will be used for the features. Adding an antisense boolean attribute to differentiate between sense and antisense promotion."
   ]
  },
  {
   "cell_type": "code",
   "execution_count": 5,
   "id": "2e174706-553f-44f4-a020-f05ba8becb7e",
   "metadata": {},
   "outputs": [],
   "source": [
    "Feat = namedtuple('Feat', ['chr', 'start', 'end', 'strand', 'type'], defaults = (False,))"
   ]
  },
  {
   "cell_type": "markdown",
   "id": "21a6407e-e1be-44c4-8241-25b293f8d17e",
   "metadata": {},
   "source": [
    "Create a dictionary containing every position of each feature. Key is (chromosome, position, strand) and value is a list of namedtuples Feat."
   ]
  },
  {
   "cell_type": "code",
   "execution_count": 6,
   "id": "d898c1f8-487a-4cc9-9929-73ab90bc7e51",
   "metadata": {},
   "outputs": [],
   "source": [
    "pos = defaultdict(list)\n",
    "for row in feat.itertuples(index=False):\n",
    "    for i in range(row.start, row.end+1):\n",
    "        item = Feat(row.chr, row.start, row.end, row.strand, row.type)\n",
    "        pos[(row.chr, i, row.strand)].append(item)"
   ]
  },
  {
   "cell_type": "code",
   "execution_count": 7,
   "id": "8e5dbd74-150c-442c-8f65-6190b3b234ed",
   "metadata": {},
   "outputs": [],
   "source": [
    "# sorted_pos = sorted(pos.items(), key = lambda i: i[0])"
   ]
  },
  {
   "cell_type": "code",
   "execution_count": 8,
   "id": "bf8c42d4-9520-405f-a04a-fa85bd98b98c",
   "metadata": {},
   "outputs": [
    {
     "data": {
      "text/html": [
       "<div>\n",
       "<style scoped>\n",
       "    .dataframe tbody tr th:only-of-type {\n",
       "        vertical-align: middle;\n",
       "    }\n",
       "\n",
       "    .dataframe tbody tr th {\n",
       "        vertical-align: top;\n",
       "    }\n",
       "\n",
       "    .dataframe thead th {\n",
       "        text-align: right;\n",
       "    }\n",
       "</style>\n",
       "<table border=\"1\" class=\"dataframe\">\n",
       "  <thead>\n",
       "    <tr style=\"text-align: right;\">\n",
       "      <th></th>\n",
       "      <th>pos</th>\n",
       "      <th>value</th>\n",
       "      <th>chr</th>\n",
       "      <th>reads</th>\n",
       "      <th>strand</th>\n",
       "    </tr>\n",
       "  </thead>\n",
       "  <tbody>\n",
       "    <tr>\n",
       "      <th>0</th>\n",
       "      <td>156</td>\n",
       "      <td>0.481988</td>\n",
       "      <td>1</td>\n",
       "      <td>1</td>\n",
       "      <td>+</td>\n",
       "    </tr>\n",
       "    <tr>\n",
       "      <th>1</th>\n",
       "      <td>5793</td>\n",
       "      <td>0.481988</td>\n",
       "      <td>1</td>\n",
       "      <td>1</td>\n",
       "      <td>+</td>\n",
       "    </tr>\n",
       "    <tr>\n",
       "      <th>2</th>\n",
       "      <td>5871</td>\n",
       "      <td>0.481988</td>\n",
       "      <td>1</td>\n",
       "      <td>1</td>\n",
       "      <td>+</td>\n",
       "    </tr>\n",
       "    <tr>\n",
       "      <th>3</th>\n",
       "      <td>5883</td>\n",
       "      <td>0.481988</td>\n",
       "      <td>1</td>\n",
       "      <td>1</td>\n",
       "      <td>+</td>\n",
       "    </tr>\n",
       "    <tr>\n",
       "      <th>4</th>\n",
       "      <td>5889</td>\n",
       "      <td>0.481988</td>\n",
       "      <td>1</td>\n",
       "      <td>1</td>\n",
       "      <td>+</td>\n",
       "    </tr>\n",
       "  </tbody>\n",
       "</table>\n",
       "</div>"
      ],
      "text/plain": [
       "    pos     value  chr  reads strand\n",
       "0   156  0.481988    1      1      +\n",
       "1  5793  0.481988    1      1      +\n",
       "2  5871  0.481988    1      1      +\n",
       "3  5883  0.481988    1      1      +\n",
       "4  5889  0.481988    1      1      +"
      ]
     },
     "execution_count": 8,
     "metadata": {},
     "output_type": "execute_result"
    }
   ],
   "source": [
    "net = pd.read_table(\"/outs/net.txt\", sep=' ')\n",
    "# net = pd.read_table(\"test/net.txt\", sep=' ')\n",
    "net.head()"
   ]
  },
  {
   "cell_type": "markdown",
   "id": "018b01cd-dd39-4394-a492-350c72454ce7",
   "metadata": {},
   "source": [
    "First step is counting reads for each feature. If there is an overlap, I do a weighted split where the weight is the inverse of distance from the start site."
   ]
  },
  {
   "cell_type": "code",
   "execution_count": 9,
   "id": "7a02a8ff-61ad-4a12-a658-790d5acc9f58",
   "metadata": {},
   "outputs": [],
   "source": [
    "d = defaultdict(float)\n",
    "ua = defaultdict(float)\n",
    "ua_dist = defaultdict(float)\n",
    "for n in net.itertuples():\n",
    "    # making the key\n",
    "    tup = (n.chr, n.pos, n.strand)\n",
    "    # check if the position is part of a feature\n",
    "    if tup in pos:\n",
    "        keys = pos.get(tup)\n",
    "        total = 0 # this is the denominator\n",
    "        checksum = 0\n",
    "        # on the + strand, check distance from start\n",
    "        if n.strand == \"+\":\n",
    "            # first find the denominator\n",
    "            for key in keys:\n",
    "                total += 1/(tup[1]-key.start + 1)                \n",
    "            # populate d with the weighted reads    \n",
    "            for key in keys:\n",
    "                d[key] += n.reads * (1/(tup[1]-key.start + 1)) / total\n",
    "                checksum += n.reads * (1/(tup[1]-key.start + 1)) / total\n",
    "        # on the - strand, check distance from end    \n",
    "        else:\n",
    "            # first find the denominator\n",
    "            for key in keys:\n",
    "                total += 1/(key.end - tup[1] + 1)\n",
    "            # populate d with the weighted reads    \n",
    "            for key in keys:\n",
    "                d[key] += n.reads * (1/(key.end - tup[1] + 1)) / total\n",
    "                checksum += n.reads * (1/(key.end - tup[1] + 1)) / total\n",
    "        # check that we assigned all reads somewhere\n",
    "        if n.reads != round(checksum):\n",
    "            print(n, \"failed checksum\")\n",
    "    # when position is not a part of any feature\n",
    "    else:\n",
    "        # find nearest feature\n",
    "        min_dist = None\n",
    "        near_feat = None\n",
    "        window_size = 600\n",
    "        keys = None\n",
    "        upper = None\n",
    "        lower = None\n",
    "        flag = False\n",
    "        flagged_keys = []\n",
    "        key2 = None\n",
    "        # checker\n",
    "        opp = (n.chr, n.pos, '+' if n.strand == \"-\" else \"-\")\n",
    "        if opp in pos:\n",
    "            flag = True\n",
    "            flagged_keys = pos.get(opp)\n",
    "            # for key in keys:\n",
    "            #     lower = min(lower, key.start) if lower is not None else key.start\n",
    "            #     upper = max(upper, key.end) if upper is not None else key.end\n",
    "        \n",
    "        for i in range(0, window_size):             \n",
    "            t_same = (n.chr, (n.pos-i) if n.strand == '+' else (n.pos+i), n.strand)\n",
    "            t_opp = (n.chr, (n.pos-i) if n.strand == '+' else (n.pos+i), '+' if n.strand == \"-\" else \"-\")\n",
    "            if t_same in pos:\n",
    "                keys = pos.get(t_same)\n",
    "                for key in keys:\n",
    "                    key2 = Feat(key.chr, key.start, key.end, key.strand, key.type+'_same')\n",
    "                    ua[key2] += n.reads/len(keys)\n",
    "                    ua_dist[key2] = max(ua_dist[key2], min(abs(n.pos-key.start), abs(n.pos-key.end))) if ua_dist[key2] != 0 \\\n",
    "                    else min(abs(n.pos-key.start), abs(n.pos-key.end))\n",
    "                if ua_dist[key2] > 1000:\n",
    "                    print(n, key2, t_same)\n",
    "                break\n",
    "\n",
    "            # if flag:\n",
    "            #     if t_opp[1] >= lower and t_opp[1] <= upper:\n",
    "            #         continue\n",
    "            \n",
    "            if t_opp in pos:\n",
    "                keys = pos.get(t_opp)\n",
    "                for key in keys:\n",
    "                    if key in flagged_keys:\n",
    "                        continue\n",
    "                    key2 = Feat(key.chr, key.start, key.end, key.strand, key.type+'_opp')\n",
    "                    ua[key2] += n.reads/len(keys)\n",
    "                    ua_dist[key2] = max(ua_dist[key2], min(abs(n.pos-key.start), abs(n.pos-key.end))) if ua_dist[key2] != 0 \\\n",
    "                    else min(abs(n.pos-key.start), abs(n.pos-key.end))\n",
    "                if key2:\n",
    "                    if ua_dist[key2] > 1000:\n",
    "                        print(n, key2, t_opp)\n",
    "                break\n",
    "\n"
   ]
  },
  {
   "cell_type": "code",
   "execution_count": 10,
   "id": "09f12586-1c52-4a53-a33f-353f864f6ce8",
   "metadata": {},
   "outputs": [
    {
     "data": {
      "text/plain": [
       "[Feat(chr=4.0, start=149203, end=155640, strand='-', type='gene'),\n",
       " Feat(chr=4.0, start=149100, end=155932, strand='-', type='ORFs')]"
      ]
     },
     "execution_count": 10,
     "metadata": {},
     "output_type": "execute_result"
    }
   ],
   "source": [
    "pos[(4, 155640, '-')]"
   ]
  },
  {
   "cell_type": "code",
   "execution_count": 11,
   "id": "72179629-a222-414b-8240-74cc5a84e68e",
   "metadata": {},
   "outputs": [
    {
     "data": {
      "text/plain": [
       "(4862, 4862)"
      ]
     },
     "execution_count": 11,
     "metadata": {},
     "output_type": "execute_result"
    }
   ],
   "source": [
    "len(ua), len(ua_dist)"
   ]
  },
  {
   "cell_type": "code",
   "execution_count": 12,
   "id": "4b5eaed2-411e-42b7-8dd7-71b5ac2c8aab",
   "metadata": {},
   "outputs": [
    {
     "data": {
      "text/plain": [
       "15799"
      ]
     },
     "execution_count": 12,
     "metadata": {},
     "output_type": "execute_result"
    }
   ],
   "source": [
    "len(feat)"
   ]
  },
  {
   "cell_type": "code",
   "execution_count": 13,
   "id": "202d48a8-ecfa-46d4-8dbf-f87006c78ea8",
   "metadata": {},
   "outputs": [
    {
     "data": {
      "text/plain": [
       "(81.65508021390374, 183.48992184286303)"
      ]
     },
     "execution_count": 13,
     "metadata": {},
     "output_type": "execute_result"
    }
   ],
   "source": [
    "sum(list(ua.values()))/len(ua), sum(list(ua_dist.values()))/len(ua_dist)"
   ]
  },
  {
   "cell_type": "code",
   "execution_count": 14,
   "id": "bf236ff4-d107-44aa-b402-6fd888999a8f",
   "metadata": {},
   "outputs": [
    {
     "data": {
      "text/plain": [
       "(1, 599)"
      ]
     },
     "execution_count": 14,
     "metadata": {},
     "output_type": "execute_result"
    }
   ],
   "source": [
    "min(list(ua_dist.values())), max(list(ua_dist.values()))"
   ]
  },
  {
   "cell_type": "code",
   "execution_count": 15,
   "id": "9fe0562d-e050-45f0-a97c-4b35089824cc",
   "metadata": {},
   "outputs": [
    {
     "data": {
      "text/plain": [
       "(2079, 2783)"
      ]
     },
     "execution_count": 15,
     "metadata": {},
     "output_type": "execute_result"
    }
   ],
   "source": [
    "len([item for item in list(ua_dist.keys()) if item.type.endswith('same')]), len([item for item in list(ua_dist.keys()) if item.type.endswith('opp')])"
   ]
  },
  {
   "cell_type": "code",
   "execution_count": 16,
   "id": "6743c4d6-aaf1-477f-85b1-c7f1630d542e",
   "metadata": {},
   "outputs": [
    {
     "data": {
      "text/plain": [
       "<Axes: ylabel='Frequency'>"
      ]
     },
     "execution_count": 16,
     "metadata": {},
     "output_type": "execute_result"
    },
    {
     "data": {
      "image/png": "[encoded data removed]",
      "text/plain": [
       "<Figure size 640x480 with 1 Axes>"
      ]
     },
     "metadata": {},
     "output_type": "display_data"
    }
   ],
   "source": [
    "pd.Series(ua_dist).plot.hist()"
   ]
  },
  {
   "cell_type": "code",
   "execution_count": 17,
   "id": "54d2dceb-089e-46a4-a87b-23522b5476bc",
   "metadata": {},
   "outputs": [
    {
     "data": {
      "text/plain": [
       "np.float64(418.7515786506267)"
      ]
     },
     "execution_count": 17,
     "metadata": {},
     "output_type": "execute_result"
    }
   ],
   "source": [
    "pd.Series(ua_dist).mean() + 1.5*pd.Series(ua_dist).std()"
   ]
  },
  {
   "cell_type": "code",
   "execution_count": 18,
   "id": "558168c9-8964-4e60-bbde-218219dfbac8",
   "metadata": {},
   "outputs": [],
   "source": [
    "# d"
   ]
  },
  {
   "cell_type": "code",
   "execution_count": 19,
   "id": "8b1c20e9-6fef-46fc-aa59-194fb612d639",
   "metadata": {},
   "outputs": [],
   "source": [
    "# ua, ua_dist"
   ]
  },
  {
   "cell_type": "code",
   "execution_count": 20,
   "id": "9603b8a7-10fa-4e29-9f84-a2bf550c81f4",
   "metadata": {},
   "outputs": [],
   "source": [
    "# ua[Feat(chr=1.0, start=335, end=649, strand='+', type='gene_right')], ua_dist[Feat(chr=1.0, start=335, end=649, strand='+', type='gene_right')]"
   ]
  },
  {
   "cell_type": "code",
   "execution_count": 21,
   "id": "89a62519-4c1a-43d0-a778-210457819cc9",
   "metadata": {},
   "outputs": [],
   "source": [
    "for key in ua:\n",
    "    if key.strand == '+' and key.type.endswith('same'):\n",
    "        key2 = Feat(key.chr, key.start, key.end+ua_dist[key], key.strand, key.type)\n",
    "    if key.strand == '+' and key.type.endswith('opp'):\n",
    "        key2 = Feat(key.chr, key.start-ua_dist[key], key.start, '-', key.type)\n",
    "    if key.strand == '-' and key.type.endswith('same'):\n",
    "        key2 = Feat(key.chr, key.start-ua_dist[key], key.end, key.strand, key.type)\n",
    "    if key.strand == '-' and key.type.endswith('opp'):\n",
    "        key2 = Feat(key.chr, key.end, key.end+ua_dist[key], '+', key.type)\n",
    "        \n",
    "    d[key2] = ua[key]"
   ]
  },
  {
   "cell_type": "code",
   "execution_count": 22,
   "id": "21a19d55-39f0-44ed-a2db-abdca3565999",
   "metadata": {},
   "outputs": [
    {
     "data": {
      "text/html": [
       "<div>\n",
       "<style scoped>\n",
       "    .dataframe tbody tr th:only-of-type {\n",
       "        vertical-align: middle;\n",
       "    }\n",
       "\n",
       "    .dataframe tbody tr th {\n",
       "        vertical-align: top;\n",
       "    }\n",
       "\n",
       "    .dataframe thead th {\n",
       "        text-align: right;\n",
       "    }\n",
       "</style>\n",
       "<table border=\"1\" class=\"dataframe\">\n",
       "  <thead>\n",
       "    <tr style=\"text-align: right;\">\n",
       "      <th></th>\n",
       "      <th>chr</th>\n",
       "      <th>start</th>\n",
       "      <th>end</th>\n",
       "      <th>strand</th>\n",
       "      <th>type</th>\n",
       "      <th>reads</th>\n",
       "    </tr>\n",
       "  </thead>\n",
       "  <tbody>\n",
       "    <tr>\n",
       "      <th>0</th>\n",
       "      <td>1.0</td>\n",
       "      <td>9368</td>\n",
       "      <td>9600</td>\n",
       "      <td>+</td>\n",
       "      <td>SUTs</td>\n",
       "      <td>74.000000</td>\n",
       "    </tr>\n",
       "    <tr>\n",
       "      <th>1</th>\n",
       "      <td>1.0</td>\n",
       "      <td>9807</td>\n",
       "      <td>10460</td>\n",
       "      <td>+</td>\n",
       "      <td>gene</td>\n",
       "      <td>48.000000</td>\n",
       "    </tr>\n",
       "    <tr>\n",
       "      <th>2</th>\n",
       "      <td>1.0</td>\n",
       "      <td>11270</td>\n",
       "      <td>11785</td>\n",
       "      <td>+</td>\n",
       "      <td>XUTs</td>\n",
       "      <td>184.683701</td>\n",
       "    </tr>\n",
       "    <tr>\n",
       "      <th>3</th>\n",
       "      <td>1.0</td>\n",
       "      <td>11313</td>\n",
       "      <td>15151</td>\n",
       "      <td>+</td>\n",
       "      <td>gene</td>\n",
       "      <td>251.659257</td>\n",
       "    </tr>\n",
       "    <tr>\n",
       "      <th>4</th>\n",
       "      <td>1.0</td>\n",
       "      <td>13123</td>\n",
       "      <td>13701</td>\n",
       "      <td>+</td>\n",
       "      <td>XUTs</td>\n",
       "      <td>27.105644</td>\n",
       "    </tr>\n",
       "  </tbody>\n",
       "</table>\n",
       "</div>"
      ],
      "text/plain": [
       "   chr  start    end strand  type       reads\n",
       "0  1.0   9368   9600      +  SUTs   74.000000\n",
       "1  1.0   9807  10460      +  gene   48.000000\n",
       "2  1.0  11270  11785      +  XUTs  184.683701\n",
       "3  1.0  11313  15151      +  gene  251.659257\n",
       "4  1.0  13123  13701      +  XUTs   27.105644"
      ]
     },
     "execution_count": 22,
     "metadata": {},
     "output_type": "execute_result"
    }
   ],
   "source": [
    "df = pd.DataFrame([d])\n",
    "df = df.transpose()\n",
    "df = df.rename(columns={0: \"reads\"})\n",
    "df = df.reset_index(names = \"og_index\")\n",
    "df = pd.concat([pd.DataFrame(df[\"og_index\"].tolist(), columns = [\"chr\", \"start\", \"end\", \"strand\", \"type\"]), df[[\"reads\"]]], axis=1) \n",
    "df.head()"
   ]
  },
  {
   "cell_type": "code",
   "execution_count": 23,
   "id": "886015df-f596-4416-b542-bb1856d820d5",
   "metadata": {},
   "outputs": [
    {
     "data": {
      "text/html": [
       "<div>\n",
       "<style scoped>\n",
       "    .dataframe tbody tr th:only-of-type {\n",
       "        vertical-align: middle;\n",
       "    }\n",
       "\n",
       "    .dataframe tbody tr th {\n",
       "        vertical-align: top;\n",
       "    }\n",
       "\n",
       "    .dataframe thead th {\n",
       "        text-align: right;\n",
       "    }\n",
       "</style>\n",
       "<table border=\"1\" class=\"dataframe\">\n",
       "  <thead>\n",
       "    <tr style=\"text-align: right;\">\n",
       "      <th></th>\n",
       "      <th>chr</th>\n",
       "      <th>start</th>\n",
       "      <th>end</th>\n",
       "      <th>strand</th>\n",
       "      <th>type</th>\n",
       "      <th>reads</th>\n",
       "      <th>length</th>\n",
       "    </tr>\n",
       "  </thead>\n",
       "  <tbody>\n",
       "    <tr>\n",
       "      <th>0</th>\n",
       "      <td>1.0</td>\n",
       "      <td>9368</td>\n",
       "      <td>9600</td>\n",
       "      <td>+</td>\n",
       "      <td>SUTs</td>\n",
       "      <td>74.000000</td>\n",
       "      <td>232</td>\n",
       "    </tr>\n",
       "    <tr>\n",
       "      <th>1</th>\n",
       "      <td>1.0</td>\n",
       "      <td>9807</td>\n",
       "      <td>10460</td>\n",
       "      <td>+</td>\n",
       "      <td>gene</td>\n",
       "      <td>48.000000</td>\n",
       "      <td>653</td>\n",
       "    </tr>\n",
       "    <tr>\n",
       "      <th>2</th>\n",
       "      <td>1.0</td>\n",
       "      <td>11270</td>\n",
       "      <td>11785</td>\n",
       "      <td>+</td>\n",
       "      <td>XUTs</td>\n",
       "      <td>184.683701</td>\n",
       "      <td>515</td>\n",
       "    </tr>\n",
       "    <tr>\n",
       "      <th>3</th>\n",
       "      <td>1.0</td>\n",
       "      <td>11313</td>\n",
       "      <td>15151</td>\n",
       "      <td>+</td>\n",
       "      <td>gene</td>\n",
       "      <td>251.659257</td>\n",
       "      <td>3838</td>\n",
       "    </tr>\n",
       "    <tr>\n",
       "      <th>4</th>\n",
       "      <td>1.0</td>\n",
       "      <td>13123</td>\n",
       "      <td>13701</td>\n",
       "      <td>+</td>\n",
       "      <td>XUTs</td>\n",
       "      <td>27.105644</td>\n",
       "      <td>578</td>\n",
       "    </tr>\n",
       "  </tbody>\n",
       "</table>\n",
       "</div>"
      ],
      "text/plain": [
       "   chr  start    end strand  type       reads  length\n",
       "0  1.0   9368   9600      +  SUTs   74.000000     232\n",
       "1  1.0   9807  10460      +  gene   48.000000     653\n",
       "2  1.0  11270  11785      +  XUTs  184.683701     515\n",
       "3  1.0  11313  15151      +  gene  251.659257    3838\n",
       "4  1.0  13123  13701      +  XUTs   27.105644     578"
      ]
     },
     "execution_count": 23,
     "metadata": {},
     "output_type": "execute_result"
    }
   ],
   "source": [
    "df[\"length\"] = df[\"end\"] - df[\"start\"]\n",
    "df.head()"
   ]
  },
  {
   "cell_type": "code",
   "execution_count": 24,
   "id": "bc10eae9-c3a7-44b2-8581-7dd9227b01fb",
   "metadata": {},
   "outputs": [
    {
     "data": {
      "text/plain": [
       "<Axes: xlabel='length', ylabel='reads'>"
      ]
     },
     "execution_count": 24,
     "metadata": {},
     "output_type": "execute_result"
    },
    {
     "data": {
      "image/png": "[encoded data removed]",
      "text/plain": [
       "<Figure size 640x480 with 1 Axes>"
      ]
     },
     "metadata": {},
     "output_type": "display_data"
    }
   ],
   "source": [
    "df[df[\"reads\"] < 1e4].plot.scatter(y=\"reads\", x=\"length\", s=0.5)"
   ]
  },
  {
   "cell_type": "code",
   "execution_count": 25,
   "id": "ede41458-4bf2-4fe0-bbc2-8d6cd863dcff",
   "metadata": {},
   "outputs": [
    {
     "data": {
      "text/plain": [
       "['XUTs_same',\n",
       " 'gene',\n",
       " 'other_same',\n",
       " 'CUTs_opp',\n",
       " 'ncRNA_gene_same',\n",
       " 'ncRNA_gene',\n",
       " 'CUTs',\n",
       " 'SUTs_same',\n",
       " 'snRNA_gene_same',\n",
       " 'ncRNA_gene_opp',\n",
       " 'gene_same',\n",
       " 'snRNA_gene_opp',\n",
       " 'snRNA_gene',\n",
       " 'SUTs_opp',\n",
       " 'XUTs',\n",
       " 'LTR_retrotransposon',\n",
       " 'telomerase_RNA_gene',\n",
       " 'snoRNA_gene_same',\n",
       " 'ORFs_same',\n",
       " 'snoRNA_gene_opp',\n",
       " 'other',\n",
       " 'ORFs_opp',\n",
       " 'snoRNA_gene',\n",
       " 'LTR_retrotransposon_same',\n",
       " 'transposable_element_gene_same',\n",
       " 'XUTs_opp',\n",
       " 'ORFs',\n",
       " 'LTR_retrotransposon_opp',\n",
       " 'SUTs',\n",
       " 'gene_opp',\n",
       " 'CUTs_same',\n",
       " 'transposable_element_gene',\n",
       " 'other_opp']"
      ]
     },
     "execution_count": 25,
     "metadata": {},
     "output_type": "execute_result"
    }
   ],
   "source": [
    "list(set(df[\"type\"]))"
   ]
  },
  {
   "cell_type": "code",
   "execution_count": 26,
   "id": "bb676875-426d-4ac2-bef5-1a357e660e81",
   "metadata": {},
   "outputs": [
    {
     "name": "stdout",
     "output_type": "stream",
     "text": [
      "(11497, 7)\n",
      "(20261, 7)\n"
     ]
    }
   ],
   "source": [
    "print(df[(df[\"reads\"] < 1e5) & (df[\"type\"].apply(lambda item: item in [\"gene\", \"ORFs\"]))].shape)\n",
    "print(df[(df[\"reads\"] < 1e5)].shape)"
   ]
  },
  {
   "cell_type": "code",
   "execution_count": 27,
   "id": "42b41302-adf2-409d-811c-dcf70b58307b",
   "metadata": {},
   "outputs": [
    {
     "data": {
      "text/plain": [
       "<Axes: xlabel='length', ylabel='reads'>"
      ]
     },
     "execution_count": 27,
     "metadata": {},
     "output_type": "execute_result"
    },
    {
     "data": {
      "image/png": "[encoded data removed]",
      "text/plain": [
       "<Figure size 640x480 with 1 Axes>"
      ]
     },
     "metadata": {},
     "output_type": "display_data"
    }
   ],
   "source": [
    "df[(df[\"reads\"] < 1e4) & (df[\"type\"].apply(lambda item: item in [\"ORFs\"]))].plot.scatter(y=\"reads\", x=\"length\", s=0.5)"
   ]
  },
  {
   "cell_type": "code",
   "execution_count": 28,
   "id": "04a2dac2-d20e-4c71-8a0e-a95404698f69",
   "metadata": {},
   "outputs": [],
   "source": [
    "# d"
   ]
  },
  {
   "cell_type": "code",
   "execution_count": 29,
   "id": "5248bbea-b7f6-4465-a068-6736a1dcae64",
   "metadata": {},
   "outputs": [],
   "source": [
    "expand = defaultdict(int)\n",
    "for row in d:\n",
    "    for i in range(row.start, row.end+1):\n",
    "        ### This is the main gene length correction switch. \n",
    "        expand[(row.chr, i, row.strand)] += d[row] # /(row.end-row.start+1)\n",
    "        # expand_type[(row.chr, i, row.strand)].add(row.type)"
   ]
  },
  {
   "cell_type": "code",
   "execution_count": 30,
   "id": "d3a88037-e3dc-4d32-b370-a29335f2c9da",
   "metadata": {},
   "outputs": [
    {
     "data": {
      "text/html": [
       "<div>\n",
       "<style scoped>\n",
       "    .dataframe tbody tr th:only-of-type {\n",
       "        vertical-align: middle;\n",
       "    }\n",
       "\n",
       "    .dataframe tbody tr th {\n",
       "        vertical-align: top;\n",
       "    }\n",
       "\n",
       "    .dataframe thead th {\n",
       "        text-align: right;\n",
       "    }\n",
       "</style>\n",
       "<table border=\"1\" class=\"dataframe\">\n",
       "  <thead>\n",
       "    <tr style=\"text-align: right;\">\n",
       "      <th></th>\n",
       "      <th>chr</th>\n",
       "      <th>pos</th>\n",
       "      <th>strand</th>\n",
       "      <th>reads</th>\n",
       "    </tr>\n",
       "  </thead>\n",
       "  <tbody>\n",
       "    <tr>\n",
       "      <th>0</th>\n",
       "      <td>1.0</td>\n",
       "      <td>9368</td>\n",
       "      <td>+</td>\n",
       "      <td>131.0</td>\n",
       "    </tr>\n",
       "    <tr>\n",
       "      <th>1</th>\n",
       "      <td>1.0</td>\n",
       "      <td>9369</td>\n",
       "      <td>+</td>\n",
       "      <td>131.0</td>\n",
       "    </tr>\n",
       "    <tr>\n",
       "      <th>2</th>\n",
       "      <td>1.0</td>\n",
       "      <td>9370</td>\n",
       "      <td>+</td>\n",
       "      <td>131.0</td>\n",
       "    </tr>\n",
       "    <tr>\n",
       "      <th>3</th>\n",
       "      <td>1.0</td>\n",
       "      <td>9371</td>\n",
       "      <td>+</td>\n",
       "      <td>131.0</td>\n",
       "    </tr>\n",
       "    <tr>\n",
       "      <th>4</th>\n",
       "      <td>1.0</td>\n",
       "      <td>9372</td>\n",
       "      <td>+</td>\n",
       "      <td>131.0</td>\n",
       "    </tr>\n",
       "  </tbody>\n",
       "</table>\n",
       "</div>"
      ],
      "text/plain": [
       "   chr   pos strand  reads\n",
       "0  1.0  9368      +  131.0\n",
       "1  1.0  9369      +  131.0\n",
       "2  1.0  9370      +  131.0\n",
       "3  1.0  9371      +  131.0\n",
       "4  1.0  9372      +  131.0"
      ]
     },
     "execution_count": 30,
     "metadata": {},
     "output_type": "execute_result"
    }
   ],
   "source": [
    "df = pd.DataFrame([expand])\n",
    "df = df.transpose()\n",
    "df = df.rename(columns={0: \"reads\"})\n",
    "df = df.reset_index(names = \"og_index\")\n",
    "df = pd.concat([pd.DataFrame(df[\"og_index\"].tolist(), columns = [\"chr\", \"pos\", \"strand\"]), df[[\"reads\"]]], axis=1) \n",
    "df.head()"
   ]
  },
  {
   "cell_type": "code",
   "execution_count": 31,
   "id": "87b8f797-d685-4df2-a845-38dc41abe6b8",
   "metadata": {},
   "outputs": [],
   "source": [
    "df.to_csv(\"/outs/net_processed.txt\", index=False)"
   ]
  },
  {
   "cell_type": "code",
   "execution_count": 32,
   "id": "0767ec51-b9e4-4283-bcc8-44058d0d5dac",
   "metadata": {},
   "outputs": [
    {
     "data": {
      "text/html": [
       "<div>\n",
       "<style scoped>\n",
       "    .dataframe tbody tr th:only-of-type {\n",
       "        vertical-align: middle;\n",
       "    }\n",
       "\n",
       "    .dataframe tbody tr th {\n",
       "        vertical-align: top;\n",
       "    }\n",
       "\n",
       "    .dataframe thead th {\n",
       "        text-align: right;\n",
       "    }\n",
       "</style>\n",
       "<table border=\"1\" class=\"dataframe\">\n",
       "  <thead>\n",
       "    <tr style=\"text-align: right;\">\n",
       "      <th></th>\n",
       "      <th>chr</th>\n",
       "      <th>start</th>\n",
       "      <th>end</th>\n",
       "      <th>strand</th>\n",
       "      <th>type</th>\n",
       "    </tr>\n",
       "  </thead>\n",
       "  <tbody>\n",
       "    <tr>\n",
       "      <th>0</th>\n",
       "      <td>1.0</td>\n",
       "      <td>1</td>\n",
       "      <td>230218</td>\n",
       "      <td>.</td>\n",
       "      <td>chromosome</td>\n",
       "    </tr>\n",
       "    <tr>\n",
       "      <th>1</th>\n",
       "      <td>1.0</td>\n",
       "      <td>1</td>\n",
       "      <td>801</td>\n",
       "      <td>-</td>\n",
       "      <td>telomere</td>\n",
       "    </tr>\n",
       "    <tr>\n",
       "      <th>2</th>\n",
       "      <td>1.0</td>\n",
       "      <td>337</td>\n",
       "      <td>801</td>\n",
       "      <td>-</td>\n",
       "      <td>X_element</td>\n",
       "    </tr>\n",
       "    <tr>\n",
       "      <th>3</th>\n",
       "      <td>1.0</td>\n",
       "      <td>63</td>\n",
       "      <td>336</td>\n",
       "      <td>-</td>\n",
       "      <td>X_element_combinatorial_repeat</td>\n",
       "    </tr>\n",
       "    <tr>\n",
       "      <th>4</th>\n",
       "      <td>1.0</td>\n",
       "      <td>1</td>\n",
       "      <td>62</td>\n",
       "      <td>-</td>\n",
       "      <td>telomeric_repeat</td>\n",
       "    </tr>\n",
       "  </tbody>\n",
       "</table>\n",
       "</div>"
      ],
      "text/plain": [
       "   chr  start     end strand                            type\n",
       "0  1.0      1  230218      .                      chromosome\n",
       "1  1.0      1     801      -                        telomere\n",
       "2  1.0    337     801      -                       X_element\n",
       "3  1.0     63     336      -  X_element_combinatorial_repeat\n",
       "4  1.0      1      62      -                telomeric_repeat"
      ]
     },
     "execution_count": 32,
     "metadata": {},
     "output_type": "execute_result"
    }
   ],
   "source": [
    "allfeat = pd.read_table(\"/outs/all_features.txt\", sep=' ')\n",
    "allfeat.head()"
   ]
  },
  {
   "cell_type": "code",
   "execution_count": 33,
   "id": "b0a12425-1e23-4128-8c0c-d7b9015074c0",
   "metadata": {},
   "outputs": [],
   "source": [
    "allfeat = allfeat[allfeat[\"type\"] != \"chromosome\"]"
   ]
  },
  {
   "cell_type": "code",
   "execution_count": 34,
   "id": "b5a4cc8a-1639-4f7e-9019-56ca845336ae",
   "metadata": {},
   "outputs": [],
   "source": [
    "allpos = defaultdict(list)\n",
    "for row in allfeat.itertuples(index=False):\n",
    "    for i in range(row.start, row.end+1):\n",
    "        allpos[(row.chr, i, row.strand)].append(row.type)"
   ]
  },
  {
   "cell_type": "code",
   "execution_count": 35,
   "id": "ce3116d2-e566-4840-a79d-9862a5b0365d",
   "metadata": {},
   "outputs": [
    {
     "data": {
      "text/plain": [
       "([(1.0, 1, '-'), (1.0, 2, '-'), (1.0, 3, '-'), (1.0, 4, '-'), (1.0, 5, '-')],\n",
       " [['telomere', 'telomeric_repeat', 'telomere'],\n",
       "  ['telomere', 'telomeric_repeat', 'telomere'],\n",
       "  ['telomere', 'telomeric_repeat', 'telomere'],\n",
       "  ['telomere', 'telomeric_repeat', 'telomere'],\n",
       "  ['telomere', 'telomeric_repeat', 'telomere']])"
      ]
     },
     "execution_count": 35,
     "metadata": {},
     "output_type": "execute_result"
    }
   ],
   "source": [
    "list(allpos.keys())[:5], list(allpos.values())[:5]"
   ]
  },
  {
   "cell_type": "code",
   "execution_count": 36,
   "id": "22220fbe-6d05-4142-83b1-9716d359bf0e",
   "metadata": {},
   "outputs": [
    {
     "data": {
      "text/html": [
       "<div>\n",
       "<style scoped>\n",
       "    .dataframe tbody tr th:only-of-type {\n",
       "        vertical-align: middle;\n",
       "    }\n",
       "\n",
       "    .dataframe tbody tr th {\n",
       "        vertical-align: top;\n",
       "    }\n",
       "\n",
       "    .dataframe thead th {\n",
       "        text-align: right;\n",
       "    }\n",
       "</style>\n",
       "<table border=\"1\" class=\"dataframe\">\n",
       "  <thead>\n",
       "    <tr style=\"text-align: right;\">\n",
       "      <th></th>\n",
       "      <th>chr</th>\n",
       "      <th>pos</th>\n",
       "      <th>strand</th>\n",
       "      <th>types</th>\n",
       "    </tr>\n",
       "  </thead>\n",
       "  <tbody>\n",
       "    <tr>\n",
       "      <th>0</th>\n",
       "      <td>1.0</td>\n",
       "      <td>1</td>\n",
       "      <td>-</td>\n",
       "      <td>[telomere, telomeric_repeat, telomere]</td>\n",
       "    </tr>\n",
       "    <tr>\n",
       "      <th>1</th>\n",
       "      <td>1.0</td>\n",
       "      <td>2</td>\n",
       "      <td>-</td>\n",
       "      <td>[telomere, telomeric_repeat, telomere]</td>\n",
       "    </tr>\n",
       "    <tr>\n",
       "      <th>2</th>\n",
       "      <td>1.0</td>\n",
       "      <td>3</td>\n",
       "      <td>-</td>\n",
       "      <td>[telomere, telomeric_repeat, telomere]</td>\n",
       "    </tr>\n",
       "    <tr>\n",
       "      <th>3</th>\n",
       "      <td>1.0</td>\n",
       "      <td>4</td>\n",
       "      <td>-</td>\n",
       "      <td>[telomere, telomeric_repeat, telomere]</td>\n",
       "    </tr>\n",
       "    <tr>\n",
       "      <th>4</th>\n",
       "      <td>1.0</td>\n",
       "      <td>5</td>\n",
       "      <td>-</td>\n",
       "      <td>[telomere, telomeric_repeat, telomere]</td>\n",
       "    </tr>\n",
       "  </tbody>\n",
       "</table>\n",
       "</div>"
      ],
      "text/plain": [
       "   chr  pos strand                                   types\n",
       "0  1.0    1      -  [telomere, telomeric_repeat, telomere]\n",
       "1  1.0    2      -  [telomere, telomeric_repeat, telomere]\n",
       "2  1.0    3      -  [telomere, telomeric_repeat, telomere]\n",
       "3  1.0    4      -  [telomere, telomeric_repeat, telomere]\n",
       "4  1.0    5      -  [telomere, telomeric_repeat, telomere]"
      ]
     },
     "execution_count": 36,
     "metadata": {},
     "output_type": "execute_result"
    }
   ],
   "source": [
    "df2 = pd.DataFrame([allpos])\n",
    "df2 = df2.transpose()\n",
    "df2 = df2.rename(columns={0: \"types\"})\n",
    "df2 = df2.reset_index(names = \"og_index\")\n",
    "df2 = pd.concat([pd.DataFrame(df2[\"og_index\"].tolist(), columns = [\"chr\", \"pos\", \"strand\"]), df2[[\"types\"]]], axis=1) \n",
    "df2.head()"
   ]
  },
  {
   "cell_type": "code",
   "execution_count": 37,
   "id": "fd3c0993-75ad-42c2-ad98-36408221b329",
   "metadata": {},
   "outputs": [
    {
     "data": {
      "text/html": [
       "<div>\n",
       "<style scoped>\n",
       "    .dataframe tbody tr th:only-of-type {\n",
       "        vertical-align: middle;\n",
       "    }\n",
       "\n",
       "    .dataframe tbody tr th {\n",
       "        vertical-align: top;\n",
       "    }\n",
       "\n",
       "    .dataframe thead th {\n",
       "        text-align: right;\n",
       "    }\n",
       "</style>\n",
       "<table border=\"1\" class=\"dataframe\">\n",
       "  <thead>\n",
       "    <tr style=\"text-align: right;\">\n",
       "      <th></th>\n",
       "      <th>chr</th>\n",
       "      <th>pos</th>\n",
       "      <th>strand</th>\n",
       "      <th>types</th>\n",
       "    </tr>\n",
       "  </thead>\n",
       "  <tbody>\n",
       "    <tr>\n",
       "      <th>14051387</th>\n",
       "      <td>16.0</td>\n",
       "      <td>931342</td>\n",
       "      <td>+</td>\n",
       "      <td>[other]</td>\n",
       "    </tr>\n",
       "    <tr>\n",
       "      <th>14051388</th>\n",
       "      <td>16.0</td>\n",
       "      <td>931343</td>\n",
       "      <td>+</td>\n",
       "      <td>[other]</td>\n",
       "    </tr>\n",
       "    <tr>\n",
       "      <th>14051389</th>\n",
       "      <td>16.0</td>\n",
       "      <td>931344</td>\n",
       "      <td>+</td>\n",
       "      <td>[other]</td>\n",
       "    </tr>\n",
       "    <tr>\n",
       "      <th>14051390</th>\n",
       "      <td>16.0</td>\n",
       "      <td>931345</td>\n",
       "      <td>+</td>\n",
       "      <td>[other]</td>\n",
       "    </tr>\n",
       "    <tr>\n",
       "      <th>14051391</th>\n",
       "      <td>16.0</td>\n",
       "      <td>931346</td>\n",
       "      <td>+</td>\n",
       "      <td>[other]</td>\n",
       "    </tr>\n",
       "  </tbody>\n",
       "</table>\n",
       "</div>"
      ],
      "text/plain": [
       "           chr     pos strand    types\n",
       "14051387  16.0  931342      +  [other]\n",
       "14051388  16.0  931343      +  [other]\n",
       "14051389  16.0  931344      +  [other]\n",
       "14051390  16.0  931345      +  [other]\n",
       "14051391  16.0  931346      +  [other]"
      ]
     },
     "execution_count": 37,
     "metadata": {},
     "output_type": "execute_result"
    }
   ],
   "source": [
    "df2.tail()"
   ]
  },
  {
   "cell_type": "code",
   "execution_count": 38,
   "id": "f68ef10b-e1d9-4aeb-b8a1-2b23323a901f",
   "metadata": {},
   "outputs": [],
   "source": [
    "df2[\"flag\"] = df2[\"types\"].apply(lambda item: \"tRNA\" in item or \"rRNA\" in item or \"transcript\" in item)"
   ]
  },
  {
   "cell_type": "code",
   "execution_count": 39,
   "id": "0e20f253-5379-4d7b-a8e6-79bfc59dc181",
   "metadata": {},
   "outputs": [
    {
     "data": {
      "text/html": [
       "<div>\n",
       "<style scoped>\n",
       "    .dataframe tbody tr th:only-of-type {\n",
       "        vertical-align: middle;\n",
       "    }\n",
       "\n",
       "    .dataframe tbody tr th {\n",
       "        vertical-align: top;\n",
       "    }\n",
       "\n",
       "    .dataframe thead th {\n",
       "        text-align: right;\n",
       "    }\n",
       "</style>\n",
       "<table border=\"1\" class=\"dataframe\">\n",
       "  <thead>\n",
       "    <tr style=\"text-align: right;\">\n",
       "      <th></th>\n",
       "      <th>chr</th>\n",
       "      <th>pos</th>\n",
       "      <th>strand</th>\n",
       "      <th>types</th>\n",
       "      <th>flag</th>\n",
       "    </tr>\n",
       "  </thead>\n",
       "  <tbody>\n",
       "    <tr>\n",
       "      <th>127524</th>\n",
       "      <td>1.0</td>\n",
       "      <td>139152</td>\n",
       "      <td>+</td>\n",
       "      <td>[tRNA_gene, noncoding_exon, tRNA, gene, mRNA, ...</td>\n",
       "      <td>True</td>\n",
       "    </tr>\n",
       "    <tr>\n",
       "      <th>127525</th>\n",
       "      <td>1.0</td>\n",
       "      <td>139153</td>\n",
       "      <td>+</td>\n",
       "      <td>[tRNA_gene, noncoding_exon, tRNA, gene, mRNA, ...</td>\n",
       "      <td>True</td>\n",
       "    </tr>\n",
       "    <tr>\n",
       "      <th>127526</th>\n",
       "      <td>1.0</td>\n",
       "      <td>139154</td>\n",
       "      <td>+</td>\n",
       "      <td>[tRNA_gene, noncoding_exon, tRNA, gene, mRNA, ...</td>\n",
       "      <td>True</td>\n",
       "    </tr>\n",
       "    <tr>\n",
       "      <th>127527</th>\n",
       "      <td>1.0</td>\n",
       "      <td>139155</td>\n",
       "      <td>+</td>\n",
       "      <td>[tRNA_gene, noncoding_exon, tRNA, gene, mRNA, ...</td>\n",
       "      <td>True</td>\n",
       "    </tr>\n",
       "    <tr>\n",
       "      <th>127528</th>\n",
       "      <td>1.0</td>\n",
       "      <td>139156</td>\n",
       "      <td>+</td>\n",
       "      <td>[tRNA_gene, noncoding_exon, tRNA, gene, mRNA, ...</td>\n",
       "      <td>True</td>\n",
       "    </tr>\n",
       "  </tbody>\n",
       "</table>\n",
       "</div>"
      ],
      "text/plain": [
       "        chr     pos strand                                              types  \\\n",
       "127524  1.0  139152      +  [tRNA_gene, noncoding_exon, tRNA, gene, mRNA, ...   \n",
       "127525  1.0  139153      +  [tRNA_gene, noncoding_exon, tRNA, gene, mRNA, ...   \n",
       "127526  1.0  139154      +  [tRNA_gene, noncoding_exon, tRNA, gene, mRNA, ...   \n",
       "127527  1.0  139155      +  [tRNA_gene, noncoding_exon, tRNA, gene, mRNA, ...   \n",
       "127528  1.0  139156      +  [tRNA_gene, noncoding_exon, tRNA, gene, mRNA, ...   \n",
       "\n",
       "        flag  \n",
       "127524  True  \n",
       "127525  True  \n",
       "127526  True  \n",
       "127527  True  \n",
       "127528  True  "
      ]
     },
     "execution_count": 39,
     "metadata": {},
     "output_type": "execute_result"
    }
   ],
   "source": [
    "df2[df2[\"flag\"]].head()"
   ]
  },
  {
   "cell_type": "code",
   "execution_count": null,
   "id": "7addf566-1791-4b60-95bc-e80dcc92181d",
   "metadata": {},
   "outputs": [],
   "source": []
  },
  {
   "cell_type": "code",
   "execution_count": 40,
   "id": "d7521bb3-c6e4-46b0-a35b-f4b8b7c941b2",
   "metadata": {},
   "outputs": [
    {
     "data": {
      "text/html": [
       "<div>\n",
       "<style scoped>\n",
       "    .dataframe tbody tr th:only-of-type {\n",
       "        vertical-align: middle;\n",
       "    }\n",
       "\n",
       "    .dataframe tbody tr th {\n",
       "        vertical-align: top;\n",
       "    }\n",
       "\n",
       "    .dataframe thead th {\n",
       "        text-align: right;\n",
       "    }\n",
       "</style>\n",
       "<table border=\"1\" class=\"dataframe\">\n",
       "  <thead>\n",
       "    <tr style=\"text-align: right;\">\n",
       "      <th></th>\n",
       "      <th>chr</th>\n",
       "      <th>pos</th>\n",
       "      <th>strand</th>\n",
       "      <th>types</th>\n",
       "      <th>flag</th>\n",
       "      <th>coding</th>\n",
       "    </tr>\n",
       "  </thead>\n",
       "  <tbody>\n",
       "    <tr>\n",
       "      <th>0</th>\n",
       "      <td>1.0</td>\n",
       "      <td>1</td>\n",
       "      <td>-</td>\n",
       "      <td>[telomere, telomeric_repeat, telomere]</td>\n",
       "      <td>False</td>\n",
       "      <td>False</td>\n",
       "    </tr>\n",
       "    <tr>\n",
       "      <th>1</th>\n",
       "      <td>1.0</td>\n",
       "      <td>2</td>\n",
       "      <td>-</td>\n",
       "      <td>[telomere, telomeric_repeat, telomere]</td>\n",
       "      <td>False</td>\n",
       "      <td>False</td>\n",
       "    </tr>\n",
       "    <tr>\n",
       "      <th>2</th>\n",
       "      <td>1.0</td>\n",
       "      <td>3</td>\n",
       "      <td>-</td>\n",
       "      <td>[telomere, telomeric_repeat, telomere]</td>\n",
       "      <td>False</td>\n",
       "      <td>False</td>\n",
       "    </tr>\n",
       "    <tr>\n",
       "      <th>3</th>\n",
       "      <td>1.0</td>\n",
       "      <td>4</td>\n",
       "      <td>-</td>\n",
       "      <td>[telomere, telomeric_repeat, telomere]</td>\n",
       "      <td>False</td>\n",
       "      <td>False</td>\n",
       "    </tr>\n",
       "    <tr>\n",
       "      <th>4</th>\n",
       "      <td>1.0</td>\n",
       "      <td>5</td>\n",
       "      <td>-</td>\n",
       "      <td>[telomere, telomeric_repeat, telomere]</td>\n",
       "      <td>False</td>\n",
       "      <td>False</td>\n",
       "    </tr>\n",
       "  </tbody>\n",
       "</table>\n",
       "</div>"
      ],
      "text/plain": [
       "   chr  pos strand                                   types   flag  coding\n",
       "0  1.0    1      -  [telomere, telomeric_repeat, telomere]  False   False\n",
       "1  1.0    2      -  [telomere, telomeric_repeat, telomere]  False   False\n",
       "2  1.0    3      -  [telomere, telomeric_repeat, telomere]  False   False\n",
       "3  1.0    4      -  [telomere, telomeric_repeat, telomere]  False   False\n",
       "4  1.0    5      -  [telomere, telomeric_repeat, telomere]  False   False"
      ]
     },
     "execution_count": 40,
     "metadata": {},
     "output_type": "execute_result"
    }
   ],
   "source": [
    "df2[\"coding\"] = df2[\"types\"].apply(lambda item: (\"gene\" in item) and (\"same\" not in item or \"opp\" not in item))\n",
    "# df2[\"coding\"] = df2[\"types\"].apply(lambda item: \"mRNA\" in item or \"CDS\" in item)\n",
    "df2.head()"
   ]
  },
  {
   "cell_type": "code",
   "execution_count": 41,
   "id": "0c17d6a7-1f0c-489b-89b9-92a9f0738047",
   "metadata": {},
   "outputs": [
    {
     "data": {
      "text/html": [
       "<div>\n",
       "<style scoped>\n",
       "    .dataframe tbody tr th:only-of-type {\n",
       "        vertical-align: middle;\n",
       "    }\n",
       "\n",
       "    .dataframe tbody tr th {\n",
       "        vertical-align: top;\n",
       "    }\n",
       "\n",
       "    .dataframe thead th {\n",
       "        text-align: right;\n",
       "    }\n",
       "</style>\n",
       "<table border=\"1\" class=\"dataframe\">\n",
       "  <thead>\n",
       "    <tr style=\"text-align: right;\">\n",
       "      <th></th>\n",
       "      <th>chr</th>\n",
       "      <th>pos</th>\n",
       "      <th>strand</th>\n",
       "      <th>types</th>\n",
       "      <th>flag</th>\n",
       "      <th>coding</th>\n",
       "      <th>features</th>\n",
       "    </tr>\n",
       "  </thead>\n",
       "  <tbody>\n",
       "    <tr>\n",
       "      <th>0</th>\n",
       "      <td>1.0</td>\n",
       "      <td>1</td>\n",
       "      <td>-</td>\n",
       "      <td>[telomere, telomeric_repeat, telomere]</td>\n",
       "      <td>False</td>\n",
       "      <td>False</td>\n",
       "      <td>True</td>\n",
       "    </tr>\n",
       "    <tr>\n",
       "      <th>1</th>\n",
       "      <td>1.0</td>\n",
       "      <td>2</td>\n",
       "      <td>-</td>\n",
       "      <td>[telomere, telomeric_repeat, telomere]</td>\n",
       "      <td>False</td>\n",
       "      <td>False</td>\n",
       "      <td>True</td>\n",
       "    </tr>\n",
       "    <tr>\n",
       "      <th>2</th>\n",
       "      <td>1.0</td>\n",
       "      <td>3</td>\n",
       "      <td>-</td>\n",
       "      <td>[telomere, telomeric_repeat, telomere]</td>\n",
       "      <td>False</td>\n",
       "      <td>False</td>\n",
       "      <td>True</td>\n",
       "    </tr>\n",
       "    <tr>\n",
       "      <th>3</th>\n",
       "      <td>1.0</td>\n",
       "      <td>4</td>\n",
       "      <td>-</td>\n",
       "      <td>[telomere, telomeric_repeat, telomere]</td>\n",
       "      <td>False</td>\n",
       "      <td>False</td>\n",
       "      <td>True</td>\n",
       "    </tr>\n",
       "    <tr>\n",
       "      <th>4</th>\n",
       "      <td>1.0</td>\n",
       "      <td>5</td>\n",
       "      <td>-</td>\n",
       "      <td>[telomere, telomeric_repeat, telomere]</td>\n",
       "      <td>False</td>\n",
       "      <td>False</td>\n",
       "      <td>True</td>\n",
       "    </tr>\n",
       "  </tbody>\n",
       "</table>\n",
       "</div>"
      ],
      "text/plain": [
       "   chr  pos strand                                   types   flag  coding  \\\n",
       "0  1.0    1      -  [telomere, telomeric_repeat, telomere]  False   False   \n",
       "1  1.0    2      -  [telomere, telomeric_repeat, telomere]  False   False   \n",
       "2  1.0    3      -  [telomere, telomeric_repeat, telomere]  False   False   \n",
       "3  1.0    4      -  [telomere, telomeric_repeat, telomere]  False   False   \n",
       "4  1.0    5      -  [telomere, telomeric_repeat, telomere]  False   False   \n",
       "\n",
       "   features  \n",
       "0      True  \n",
       "1      True  \n",
       "2      True  \n",
       "3      True  \n",
       "4      True  "
      ]
     },
     "execution_count": 41,
     "metadata": {},
     "output_type": "execute_result"
    }
   ],
   "source": [
    "df2[\"features\"] = True\n",
    "df2.head()"
   ]
  },
  {
   "cell_type": "code",
   "execution_count": 42,
   "id": "8d86fb5b-797d-4abb-8798-2208acc163eb",
   "metadata": {},
   "outputs": [],
   "source": [
    "df2[\"annotated_types\"] = df2[\"types\"].apply(lambda item: [i for i in item if (i not in [\"SUTs\", \"CUTs\", \"XUTs\", \"other\"]) and (\"same\" not in item or \"opp\" not in item)])\n",
    "# df2[\"annotated_types\"] = df2[\"types\"].apply(lambda item: [i for i in item if i not in [\"SUTs\", \"CUTs\", \"XUTs\", \"other\"]])"
   ]
  },
  {
   "cell_type": "code",
   "execution_count": 43,
   "id": "7432b6b1-87c9-4736-b643-6b84ae14e326",
   "metadata": {},
   "outputs": [
    {
     "data": {
      "text/html": [
       "<div>\n",
       "<style scoped>\n",
       "    .dataframe tbody tr th:only-of-type {\n",
       "        vertical-align: middle;\n",
       "    }\n",
       "\n",
       "    .dataframe tbody tr th {\n",
       "        vertical-align: top;\n",
       "    }\n",
       "\n",
       "    .dataframe thead th {\n",
       "        text-align: right;\n",
       "    }\n",
       "</style>\n",
       "<table border=\"1\" class=\"dataframe\">\n",
       "  <thead>\n",
       "    <tr style=\"text-align: right;\">\n",
       "      <th></th>\n",
       "      <th>chr</th>\n",
       "      <th>pos</th>\n",
       "      <th>strand</th>\n",
       "      <th>types</th>\n",
       "      <th>flag</th>\n",
       "      <th>coding</th>\n",
       "      <th>features</th>\n",
       "      <th>annotated_types</th>\n",
       "      <th>annotated</th>\n",
       "    </tr>\n",
       "  </thead>\n",
       "  <tbody>\n",
       "    <tr>\n",
       "      <th>0</th>\n",
       "      <td>1.0</td>\n",
       "      <td>1</td>\n",
       "      <td>-</td>\n",
       "      <td>[telomere, telomeric_repeat, telomere]</td>\n",
       "      <td>False</td>\n",
       "      <td>False</td>\n",
       "      <td>True</td>\n",
       "      <td>[telomere, telomeric_repeat, telomere]</td>\n",
       "      <td>True</td>\n",
       "    </tr>\n",
       "    <tr>\n",
       "      <th>1</th>\n",
       "      <td>1.0</td>\n",
       "      <td>2</td>\n",
       "      <td>-</td>\n",
       "      <td>[telomere, telomeric_repeat, telomere]</td>\n",
       "      <td>False</td>\n",
       "      <td>False</td>\n",
       "      <td>True</td>\n",
       "      <td>[telomere, telomeric_repeat, telomere]</td>\n",
       "      <td>True</td>\n",
       "    </tr>\n",
       "    <tr>\n",
       "      <th>2</th>\n",
       "      <td>1.0</td>\n",
       "      <td>3</td>\n",
       "      <td>-</td>\n",
       "      <td>[telomere, telomeric_repeat, telomere]</td>\n",
       "      <td>False</td>\n",
       "      <td>False</td>\n",
       "      <td>True</td>\n",
       "      <td>[telomere, telomeric_repeat, telomere]</td>\n",
       "      <td>True</td>\n",
       "    </tr>\n",
       "    <tr>\n",
       "      <th>3</th>\n",
       "      <td>1.0</td>\n",
       "      <td>4</td>\n",
       "      <td>-</td>\n",
       "      <td>[telomere, telomeric_repeat, telomere]</td>\n",
       "      <td>False</td>\n",
       "      <td>False</td>\n",
       "      <td>True</td>\n",
       "      <td>[telomere, telomeric_repeat, telomere]</td>\n",
       "      <td>True</td>\n",
       "    </tr>\n",
       "    <tr>\n",
       "      <th>4</th>\n",
       "      <td>1.0</td>\n",
       "      <td>5</td>\n",
       "      <td>-</td>\n",
       "      <td>[telomere, telomeric_repeat, telomere]</td>\n",
       "      <td>False</td>\n",
       "      <td>False</td>\n",
       "      <td>True</td>\n",
       "      <td>[telomere, telomeric_repeat, telomere]</td>\n",
       "      <td>True</td>\n",
       "    </tr>\n",
       "  </tbody>\n",
       "</table>\n",
       "</div>"
      ],
      "text/plain": [
       "   chr  pos strand                                   types   flag  coding  \\\n",
       "0  1.0    1      -  [telomere, telomeric_repeat, telomere]  False   False   \n",
       "1  1.0    2      -  [telomere, telomeric_repeat, telomere]  False   False   \n",
       "2  1.0    3      -  [telomere, telomeric_repeat, telomere]  False   False   \n",
       "3  1.0    4      -  [telomere, telomeric_repeat, telomere]  False   False   \n",
       "4  1.0    5      -  [telomere, telomeric_repeat, telomere]  False   False   \n",
       "\n",
       "   features                         annotated_types  annotated  \n",
       "0      True  [telomere, telomeric_repeat, telomere]       True  \n",
       "1      True  [telomere, telomeric_repeat, telomere]       True  \n",
       "2      True  [telomere, telomeric_repeat, telomere]       True  \n",
       "3      True  [telomere, telomeric_repeat, telomere]       True  \n",
       "4      True  [telomere, telomeric_repeat, telomere]       True  "
      ]
     },
     "execution_count": 43,
     "metadata": {},
     "output_type": "execute_result"
    }
   ],
   "source": [
    "df2[\"annotated\"] = df2[\"annotated_types\"].apply(lambda item: len(item) > 0)\n",
    "df2.head()"
   ]
  },
  {
   "cell_type": "code",
   "execution_count": 44,
   "id": "cb823509-250e-4533-891c-fe4925d8569b",
   "metadata": {},
   "outputs": [
    {
     "data": {
      "text/html": [
       "<div>\n",
       "<style scoped>\n",
       "    .dataframe tbody tr th:only-of-type {\n",
       "        vertical-align: middle;\n",
       "    }\n",
       "\n",
       "    .dataframe tbody tr th {\n",
       "        vertical-align: top;\n",
       "    }\n",
       "\n",
       "    .dataframe thead th {\n",
       "        text-align: right;\n",
       "    }\n",
       "</style>\n",
       "<table border=\"1\" class=\"dataframe\">\n",
       "  <thead>\n",
       "    <tr style=\"text-align: right;\">\n",
       "      <th></th>\n",
       "      <th>chr</th>\n",
       "      <th>pos</th>\n",
       "      <th>strand</th>\n",
       "      <th>types</th>\n",
       "      <th>flag</th>\n",
       "      <th>coding</th>\n",
       "      <th>features</th>\n",
       "      <th>annotated_types</th>\n",
       "      <th>annotated</th>\n",
       "      <th>usefulish</th>\n",
       "    </tr>\n",
       "  </thead>\n",
       "  <tbody>\n",
       "    <tr>\n",
       "      <th>0</th>\n",
       "      <td>1.0</td>\n",
       "      <td>1</td>\n",
       "      <td>-</td>\n",
       "      <td>[telomere, telomeric_repeat, telomere]</td>\n",
       "      <td>False</td>\n",
       "      <td>False</td>\n",
       "      <td>True</td>\n",
       "      <td>[telomere, telomeric_repeat, telomere]</td>\n",
       "      <td>True</td>\n",
       "      <td>False</td>\n",
       "    </tr>\n",
       "    <tr>\n",
       "      <th>1</th>\n",
       "      <td>1.0</td>\n",
       "      <td>2</td>\n",
       "      <td>-</td>\n",
       "      <td>[telomere, telomeric_repeat, telomere]</td>\n",
       "      <td>False</td>\n",
       "      <td>False</td>\n",
       "      <td>True</td>\n",
       "      <td>[telomere, telomeric_repeat, telomere]</td>\n",
       "      <td>True</td>\n",
       "      <td>False</td>\n",
       "    </tr>\n",
       "    <tr>\n",
       "      <th>2</th>\n",
       "      <td>1.0</td>\n",
       "      <td>3</td>\n",
       "      <td>-</td>\n",
       "      <td>[telomere, telomeric_repeat, telomere]</td>\n",
       "      <td>False</td>\n",
       "      <td>False</td>\n",
       "      <td>True</td>\n",
       "      <td>[telomere, telomeric_repeat, telomere]</td>\n",
       "      <td>True</td>\n",
       "      <td>False</td>\n",
       "    </tr>\n",
       "    <tr>\n",
       "      <th>3</th>\n",
       "      <td>1.0</td>\n",
       "      <td>4</td>\n",
       "      <td>-</td>\n",
       "      <td>[telomere, telomeric_repeat, telomere]</td>\n",
       "      <td>False</td>\n",
       "      <td>False</td>\n",
       "      <td>True</td>\n",
       "      <td>[telomere, telomeric_repeat, telomere]</td>\n",
       "      <td>True</td>\n",
       "      <td>False</td>\n",
       "    </tr>\n",
       "    <tr>\n",
       "      <th>4</th>\n",
       "      <td>1.0</td>\n",
       "      <td>5</td>\n",
       "      <td>-</td>\n",
       "      <td>[telomere, telomeric_repeat, telomere]</td>\n",
       "      <td>False</td>\n",
       "      <td>False</td>\n",
       "      <td>True</td>\n",
       "      <td>[telomere, telomeric_repeat, telomere]</td>\n",
       "      <td>True</td>\n",
       "      <td>False</td>\n",
       "    </tr>\n",
       "  </tbody>\n",
       "</table>\n",
       "</div>"
      ],
      "text/plain": [
       "   chr  pos strand                                   types   flag  coding  \\\n",
       "0  1.0    1      -  [telomere, telomeric_repeat, telomere]  False   False   \n",
       "1  1.0    2      -  [telomere, telomeric_repeat, telomere]  False   False   \n",
       "2  1.0    3      -  [telomere, telomeric_repeat, telomere]  False   False   \n",
       "3  1.0    4      -  [telomere, telomeric_repeat, telomere]  False   False   \n",
       "4  1.0    5      -  [telomere, telomeric_repeat, telomere]  False   False   \n",
       "\n",
       "   features                         annotated_types  annotated  usefulish  \n",
       "0      True  [telomere, telomeric_repeat, telomere]       True      False  \n",
       "1      True  [telomere, telomeric_repeat, telomere]       True      False  \n",
       "2      True  [telomere, telomeric_repeat, telomere]       True      False  \n",
       "3      True  [telomere, telomeric_repeat, telomere]       True      False  \n",
       "4      True  [telomere, telomeric_repeat, telomere]       True      False  "
      ]
     },
     "execution_count": 44,
     "metadata": {},
     "output_type": "execute_result"
    }
   ],
   "source": [
    "df2[\"usefulish\"] = df2[\"types\"].apply(lambda item: len(set(item).intersection(set([\"gene\", \"CDS\", \"mRNA\", \"ncRNA_gene\", \"tRNA_gene\", \"ncRNA\", \"tRNA\",\\\n",
    "                                                                           \"snoRNA_gene\", \"snoRNA\", \"telomerase_RNA_gene\", \"telomerase_RNA\", \\\n",
    "                                                                           \"snRNA_gene\", \"snRNA\"]))) > 0)\n",
    "# df2[\"usefulish\"] = df2[\"types\"].apply(lambda item: len(set(item).intersection(set([\"origin_of_replication\", \"gene\", \"mRNA\", \"exon\", \\\n",
    "#                                                                                    \"CDS\", \"regulatory_region\", \"ncRNA\", \"tRNA\", \"snoRNA\", \\\n",
    "#                                                                                    \"telomerase_RNA\", \"sequence_feature\", \"snRNA\", \"RNase_P_RNA\", \\\n",
    "#                                                                                    \"SRP_RNA\", \"transcript\", \"rRNA\", \"RNase_MRP_RNA\"]))) > 0)\n",
    "df2.head()"
   ]
  },
  {
   "cell_type": "code",
   "execution_count": 45,
   "id": "e74d6e10-f134-4869-b639-9bfb0f2a3057",
   "metadata": {},
   "outputs": [
    {
     "data": {
      "text/html": [
       "<div>\n",
       "<style scoped>\n",
       "    .dataframe tbody tr th:only-of-type {\n",
       "        vertical-align: middle;\n",
       "    }\n",
       "\n",
       "    .dataframe tbody tr th {\n",
       "        vertical-align: top;\n",
       "    }\n",
       "\n",
       "    .dataframe thead th {\n",
       "        text-align: right;\n",
       "    }\n",
       "</style>\n",
       "<table border=\"1\" class=\"dataframe\">\n",
       "  <thead>\n",
       "    <tr style=\"text-align: right;\">\n",
       "      <th></th>\n",
       "      <th></th>\n",
       "      <th></th>\n",
       "      <th>types</th>\n",
       "      <th>flag</th>\n",
       "      <th>coding</th>\n",
       "      <th>features</th>\n",
       "      <th>annotated_types</th>\n",
       "      <th>annotated</th>\n",
       "      <th>usefulish</th>\n",
       "    </tr>\n",
       "    <tr>\n",
       "      <th>chr</th>\n",
       "      <th>pos</th>\n",
       "      <th>strand</th>\n",
       "      <th></th>\n",
       "      <th></th>\n",
       "      <th></th>\n",
       "      <th></th>\n",
       "      <th></th>\n",
       "      <th></th>\n",
       "      <th></th>\n",
       "    </tr>\n",
       "  </thead>\n",
       "  <tbody>\n",
       "    <tr>\n",
       "      <th rowspan=\"5\" valign=\"top\">1.0</th>\n",
       "      <th>1</th>\n",
       "      <th>-</th>\n",
       "      <td>[telomere, telomeric_repeat, telomere]</td>\n",
       "      <td>False</td>\n",
       "      <td>False</td>\n",
       "      <td>True</td>\n",
       "      <td>[telomere, telomeric_repeat, telomere]</td>\n",
       "      <td>True</td>\n",
       "      <td>False</td>\n",
       "    </tr>\n",
       "    <tr>\n",
       "      <th>2</th>\n",
       "      <th>-</th>\n",
       "      <td>[telomere, telomeric_repeat, telomere]</td>\n",
       "      <td>False</td>\n",
       "      <td>False</td>\n",
       "      <td>True</td>\n",
       "      <td>[telomere, telomeric_repeat, telomere]</td>\n",
       "      <td>True</td>\n",
       "      <td>False</td>\n",
       "    </tr>\n",
       "    <tr>\n",
       "      <th>3</th>\n",
       "      <th>-</th>\n",
       "      <td>[telomere, telomeric_repeat, telomere]</td>\n",
       "      <td>False</td>\n",
       "      <td>False</td>\n",
       "      <td>True</td>\n",
       "      <td>[telomere, telomeric_repeat, telomere]</td>\n",
       "      <td>True</td>\n",
       "      <td>False</td>\n",
       "    </tr>\n",
       "    <tr>\n",
       "      <th>4</th>\n",
       "      <th>-</th>\n",
       "      <td>[telomere, telomeric_repeat, telomere]</td>\n",
       "      <td>False</td>\n",
       "      <td>False</td>\n",
       "      <td>True</td>\n",
       "      <td>[telomere, telomeric_repeat, telomere]</td>\n",
       "      <td>True</td>\n",
       "      <td>False</td>\n",
       "    </tr>\n",
       "    <tr>\n",
       "      <th>5</th>\n",
       "      <th>-</th>\n",
       "      <td>[telomere, telomeric_repeat, telomere]</td>\n",
       "      <td>False</td>\n",
       "      <td>False</td>\n",
       "      <td>True</td>\n",
       "      <td>[telomere, telomeric_repeat, telomere]</td>\n",
       "      <td>True</td>\n",
       "      <td>False</td>\n",
       "    </tr>\n",
       "  </tbody>\n",
       "</table>\n",
       "</div>"
      ],
      "text/plain": [
       "                                                 types   flag  coding  \\\n",
       "chr pos strand                                                          \n",
       "1.0 1   -       [telomere, telomeric_repeat, telomere]  False   False   \n",
       "    2   -       [telomere, telomeric_repeat, telomere]  False   False   \n",
       "    3   -       [telomere, telomeric_repeat, telomere]  False   False   \n",
       "    4   -       [telomere, telomeric_repeat, telomere]  False   False   \n",
       "    5   -       [telomere, telomeric_repeat, telomere]  False   False   \n",
       "\n",
       "                features                         annotated_types  annotated  \\\n",
       "chr pos strand                                                                \n",
       "1.0 1   -           True  [telomere, telomeric_repeat, telomere]       True   \n",
       "    2   -           True  [telomere, telomeric_repeat, telomere]       True   \n",
       "    3   -           True  [telomere, telomeric_repeat, telomere]       True   \n",
       "    4   -           True  [telomere, telomeric_repeat, telomere]       True   \n",
       "    5   -           True  [telomere, telomeric_repeat, telomere]       True   \n",
       "\n",
       "                usefulish  \n",
       "chr pos strand             \n",
       "1.0 1   -           False  \n",
       "    2   -           False  \n",
       "    3   -           False  \n",
       "    4   -           False  \n",
       "    5   -           False  "
      ]
     },
     "execution_count": 45,
     "metadata": {},
     "output_type": "execute_result"
    }
   ],
   "source": [
    "df2 = df2.set_index([\"chr\", \"pos\", \"strand\"])\n",
    "df2.head()"
   ]
  },
  {
   "cell_type": "code",
   "execution_count": 46,
   "id": "cf9b2376-e633-4bc9-a5b7-edbba8bc5161",
   "metadata": {},
   "outputs": [],
   "source": [
    "df = df.join(df2[[\"coding\", \"annotated\", \"features\", \"usefulish\", \"types\", \"flag\"]], on=[\"chr\", \"pos\", \"strand\"])"
   ]
  },
  {
   "cell_type": "code",
   "execution_count": 47,
   "id": "780e754f-d88d-49c9-8812-cd4d8a6b9139",
   "metadata": {},
   "outputs": [
    {
     "data": {
      "text/html": [
       "<div>\n",
       "<style scoped>\n",
       "    .dataframe tbody tr th:only-of-type {\n",
       "        vertical-align: middle;\n",
       "    }\n",
       "\n",
       "    .dataframe tbody tr th {\n",
       "        vertical-align: top;\n",
       "    }\n",
       "\n",
       "    .dataframe thead th {\n",
       "        text-align: right;\n",
       "    }\n",
       "</style>\n",
       "<table border=\"1\" class=\"dataframe\">\n",
       "  <thead>\n",
       "    <tr style=\"text-align: right;\">\n",
       "      <th></th>\n",
       "      <th>chr</th>\n",
       "      <th>pos</th>\n",
       "      <th>strand</th>\n",
       "      <th>reads</th>\n",
       "      <th>coding</th>\n",
       "      <th>annotated</th>\n",
       "      <th>features</th>\n",
       "      <th>usefulish</th>\n",
       "      <th>types</th>\n",
       "      <th>flag</th>\n",
       "    </tr>\n",
       "  </thead>\n",
       "  <tbody>\n",
       "    <tr>\n",
       "      <th>0</th>\n",
       "      <td>1.0</td>\n",
       "      <td>9368</td>\n",
       "      <td>+</td>\n",
       "      <td>131.0</td>\n",
       "      <td>False</td>\n",
       "      <td>False</td>\n",
       "      <td>True</td>\n",
       "      <td>False</td>\n",
       "      <td>[SUTs]</td>\n",
       "      <td>False</td>\n",
       "    </tr>\n",
       "    <tr>\n",
       "      <th>1</th>\n",
       "      <td>1.0</td>\n",
       "      <td>9369</td>\n",
       "      <td>+</td>\n",
       "      <td>131.0</td>\n",
       "      <td>False</td>\n",
       "      <td>False</td>\n",
       "      <td>True</td>\n",
       "      <td>False</td>\n",
       "      <td>[SUTs]</td>\n",
       "      <td>False</td>\n",
       "    </tr>\n",
       "    <tr>\n",
       "      <th>2</th>\n",
       "      <td>1.0</td>\n",
       "      <td>9370</td>\n",
       "      <td>+</td>\n",
       "      <td>131.0</td>\n",
       "      <td>False</td>\n",
       "      <td>False</td>\n",
       "      <td>True</td>\n",
       "      <td>False</td>\n",
       "      <td>[SUTs]</td>\n",
       "      <td>False</td>\n",
       "    </tr>\n",
       "    <tr>\n",
       "      <th>3</th>\n",
       "      <td>1.0</td>\n",
       "      <td>9371</td>\n",
       "      <td>+</td>\n",
       "      <td>131.0</td>\n",
       "      <td>False</td>\n",
       "      <td>False</td>\n",
       "      <td>True</td>\n",
       "      <td>False</td>\n",
       "      <td>[SUTs]</td>\n",
       "      <td>False</td>\n",
       "    </tr>\n",
       "    <tr>\n",
       "      <th>4</th>\n",
       "      <td>1.0</td>\n",
       "      <td>9372</td>\n",
       "      <td>+</td>\n",
       "      <td>131.0</td>\n",
       "      <td>False</td>\n",
       "      <td>False</td>\n",
       "      <td>True</td>\n",
       "      <td>False</td>\n",
       "      <td>[SUTs]</td>\n",
       "      <td>False</td>\n",
       "    </tr>\n",
       "  </tbody>\n",
       "</table>\n",
       "</div>"
      ],
      "text/plain": [
       "   chr   pos strand  reads coding annotated features usefulish   types   flag\n",
       "0  1.0  9368      +  131.0  False     False     True     False  [SUTs]  False\n",
       "1  1.0  9369      +  131.0  False     False     True     False  [SUTs]  False\n",
       "2  1.0  9370      +  131.0  False     False     True     False  [SUTs]  False\n",
       "3  1.0  9371      +  131.0  False     False     True     False  [SUTs]  False\n",
       "4  1.0  9372      +  131.0  False     False     True     False  [SUTs]  False"
      ]
     },
     "execution_count": 47,
     "metadata": {},
     "output_type": "execute_result"
    }
   ],
   "source": [
    "df.head()"
   ]
  },
  {
   "cell_type": "code",
   "execution_count": 48,
   "id": "63d8e0c4-4b3f-4a5a-ad38-2f2c09da23e8",
   "metadata": {},
   "outputs": [],
   "source": [
    "# df.to_csv(\"clean/big_processed.txt\", index=False)"
   ]
  },
  {
   "cell_type": "code",
   "execution_count": 49,
   "id": "3c9a0464-3290-4afa-b8b3-a9b83da966a1",
   "metadata": {},
   "outputs": [
    {
     "data": {
      "text/html": [
       "<div>\n",
       "<style scoped>\n",
       "    .dataframe tbody tr th:only-of-type {\n",
       "        vertical-align: middle;\n",
       "    }\n",
       "\n",
       "    .dataframe tbody tr th {\n",
       "        vertical-align: top;\n",
       "    }\n",
       "\n",
       "    .dataframe thead th {\n",
       "        text-align: right;\n",
       "    }\n",
       "</style>\n",
       "<table border=\"1\" class=\"dataframe\">\n",
       "  <thead>\n",
       "    <tr style=\"text-align: right;\">\n",
       "      <th></th>\n",
       "      <th>chr</th>\n",
       "      <th>pos</th>\n",
       "      <th>strand</th>\n",
       "      <th>reads</th>\n",
       "      <th>coding</th>\n",
       "      <th>annotated</th>\n",
       "      <th>features</th>\n",
       "      <th>usefulish</th>\n",
       "      <th>types</th>\n",
       "      <th>flag</th>\n",
       "    </tr>\n",
       "  </thead>\n",
       "  <tbody>\n",
       "    <tr>\n",
       "      <th>0</th>\n",
       "      <td>1.0</td>\n",
       "      <td>9368</td>\n",
       "      <td>+</td>\n",
       "      <td>131.0</td>\n",
       "      <td>False</td>\n",
       "      <td>False</td>\n",
       "      <td>True</td>\n",
       "      <td>False</td>\n",
       "      <td>[SUTs]</td>\n",
       "      <td>False</td>\n",
       "    </tr>\n",
       "    <tr>\n",
       "      <th>1</th>\n",
       "      <td>1.0</td>\n",
       "      <td>9369</td>\n",
       "      <td>+</td>\n",
       "      <td>131.0</td>\n",
       "      <td>False</td>\n",
       "      <td>False</td>\n",
       "      <td>True</td>\n",
       "      <td>False</td>\n",
       "      <td>[SUTs]</td>\n",
       "      <td>False</td>\n",
       "    </tr>\n",
       "    <tr>\n",
       "      <th>2</th>\n",
       "      <td>1.0</td>\n",
       "      <td>9370</td>\n",
       "      <td>+</td>\n",
       "      <td>131.0</td>\n",
       "      <td>False</td>\n",
       "      <td>False</td>\n",
       "      <td>True</td>\n",
       "      <td>False</td>\n",
       "      <td>[SUTs]</td>\n",
       "      <td>False</td>\n",
       "    </tr>\n",
       "    <tr>\n",
       "      <th>3</th>\n",
       "      <td>1.0</td>\n",
       "      <td>9371</td>\n",
       "      <td>+</td>\n",
       "      <td>131.0</td>\n",
       "      <td>False</td>\n",
       "      <td>False</td>\n",
       "      <td>True</td>\n",
       "      <td>False</td>\n",
       "      <td>[SUTs]</td>\n",
       "      <td>False</td>\n",
       "    </tr>\n",
       "    <tr>\n",
       "      <th>4</th>\n",
       "      <td>1.0</td>\n",
       "      <td>9372</td>\n",
       "      <td>+</td>\n",
       "      <td>131.0</td>\n",
       "      <td>False</td>\n",
       "      <td>False</td>\n",
       "      <td>True</td>\n",
       "      <td>False</td>\n",
       "      <td>[SUTs]</td>\n",
       "      <td>False</td>\n",
       "    </tr>\n",
       "  </tbody>\n",
       "</table>\n",
       "</div>"
      ],
      "text/plain": [
       "   chr   pos strand  reads coding annotated features usefulish   types   flag\n",
       "0  1.0  9368      +  131.0  False     False     True     False  [SUTs]  False\n",
       "1  1.0  9369      +  131.0  False     False     True     False  [SUTs]  False\n",
       "2  1.0  9370      +  131.0  False     False     True     False  [SUTs]  False\n",
       "3  1.0  9371      +  131.0  False     False     True     False  [SUTs]  False\n",
       "4  1.0  9372      +  131.0  False     False     True     False  [SUTs]  False"
      ]
     },
     "execution_count": 49,
     "metadata": {},
     "output_type": "execute_result"
    }
   ],
   "source": [
    "# df = pd.read_csv(\"clean/big_processed.txt\", low_memory=False)\n",
    "df.head()"
   ]
  },
  {
   "cell_type": "code",
   "execution_count": 50,
   "id": "f4331874-008f-4269-9ad7-ba6d4c01070e",
   "metadata": {},
   "outputs": [
    {
     "name": "stderr",
     "output_type": "stream",
     "text": [
      "/tmp/ipykernel_101307/2414254382.py:1: FutureWarning: Downcasting object dtype arrays on .fillna, .ffill, .bfill is deprecated and will change in a future version. Call result.infer_objects(copy=False) instead. To opt-in to the future behavior, set `pd.set_option('future.no_silent_downcasting', True)`\n",
      "  df[\"coding\"] = df[\"coding\"].fillna(False)\n",
      "/tmp/ipykernel_101307/2414254382.py:2: FutureWarning: Downcasting object dtype arrays on .fillna, .ffill, .bfill is deprecated and will change in a future version. Call result.infer_objects(copy=False) instead. To opt-in to the future behavior, set `pd.set_option('future.no_silent_downcasting', True)`\n",
      "  df[\"annotated\"] = df[\"annotated\"].fillna(False)\n",
      "/tmp/ipykernel_101307/2414254382.py:3: FutureWarning: Downcasting object dtype arrays on .fillna, .ffill, .bfill is deprecated and will change in a future version. Call result.infer_objects(copy=False) instead. To opt-in to the future behavior, set `pd.set_option('future.no_silent_downcasting', True)`\n",
      "  df[\"features\"] = df[\"features\"].fillna(False)\n",
      "/tmp/ipykernel_101307/2414254382.py:4: FutureWarning: Downcasting object dtype arrays on .fillna, .ffill, .bfill is deprecated and will change in a future version. Call result.infer_objects(copy=False) instead. To opt-in to the future behavior, set `pd.set_option('future.no_silent_downcasting', True)`\n",
      "  df[\"usefulish\"] = df[\"usefulish\"].fillna(False)\n"
     ]
    }
   ],
   "source": [
    "df[\"coding\"] = df[\"coding\"].fillna(False)\n",
    "df[\"annotated\"] = df[\"annotated\"].fillna(False)\n",
    "df[\"features\"] = df[\"features\"].fillna(False)\n",
    "df[\"usefulish\"] = df[\"usefulish\"].fillna(False)\n",
    "# df[\"types\"] = \n",
    "df[\"types\"] = df[\"types\"].fillna(\"unannotated\")"
   ]
  },
  {
   "cell_type": "code",
   "execution_count": 51,
   "id": "ed13205f-0e09-4712-9a8f-02d9f51121be",
   "metadata": {},
   "outputs": [],
   "source": [
    "df.to_csv(\"/outs/big_processed.txt\", index=False)"
   ]
  },
  {
   "cell_type": "code",
   "execution_count": 52,
   "id": "85d52942-719d-4672-8a30-92c00443535b",
   "metadata": {},
   "outputs": [
    {
     "data": {
      "text/plain": [
       "594.685364484787"
      ]
     },
     "execution_count": 52,
     "metadata": {},
     "output_type": "execute_result"
    }
   ],
   "source": [
    "t1 = time.time()\n",
    "t1-t0"
   ]
  },
  {
   "cell_type": "code",
   "execution_count": null,
   "id": "ed48cd04-3345-449f-ae97-46473e6aae8d",
   "metadata": {},
   "outputs": [],
   "source": []
  },
  {
   "cell_type": "code",
   "execution_count": 53,
   "id": "f004d17a-438e-495b-b69a-de25d357b68f",
   "metadata": {},
   "outputs": [
    {
     "data": {
      "text/html": [
       "<div>\n",
       "<style scoped>\n",
       "    .dataframe tbody tr th:only-of-type {\n",
       "        vertical-align: middle;\n",
       "    }\n",
       "\n",
       "    .dataframe tbody tr th {\n",
       "        vertical-align: top;\n",
       "    }\n",
       "\n",
       "    .dataframe thead th {\n",
       "        text-align: right;\n",
       "    }\n",
       "</style>\n",
       "<table border=\"1\" class=\"dataframe\">\n",
       "  <thead>\n",
       "    <tr style=\"text-align: right;\">\n",
       "      <th></th>\n",
       "      <th>chr</th>\n",
       "      <th>pos</th>\n",
       "      <th>strand</th>\n",
       "      <th>reads</th>\n",
       "      <th>coding</th>\n",
       "      <th>annotated</th>\n",
       "      <th>features</th>\n",
       "      <th>usefulish</th>\n",
       "      <th>types</th>\n",
       "      <th>flag</th>\n",
       "    </tr>\n",
       "  </thead>\n",
       "  <tbody>\n",
       "    <tr>\n",
       "      <th>13269464</th>\n",
       "      <td>4.0</td>\n",
       "      <td>217244</td>\n",
       "      <td>+</td>\n",
       "      <td>294.0</td>\n",
       "      <td>False</td>\n",
       "      <td>True</td>\n",
       "      <td>True</td>\n",
       "      <td>True</td>\n",
       "      <td>[mRNA, mRNA]</td>\n",
       "      <td>False</td>\n",
       "    </tr>\n",
       "  </tbody>\n",
       "</table>\n",
       "</div>"
      ],
      "text/plain": [
       "          chr     pos strand  reads  coding  annotated  features  usefulish  \\\n",
       "13269464  4.0  217244      +  294.0   False       True      True       True   \n",
       "\n",
       "                 types   flag  \n",
       "13269464  [mRNA, mRNA]  False  "
      ]
     },
     "execution_count": 53,
     "metadata": {},
     "output_type": "execute_result"
    }
   ],
   "source": [
    "df[(df[\"chr\"] == 4) & (df[\"pos\"] == 217244)]"
   ]
  },
  {
   "cell_type": "code",
   "execution_count": 54,
   "id": "70946589-9ca6-434a-9a5f-1f28c704d8af",
   "metadata": {},
   "outputs": [
    {
     "name": "stderr",
     "output_type": "stream",
     "text": [
      "/tmp/ipykernel_101307/1140512787.py:1: PerformanceWarning: indexing past lexsort depth may impact performance.\n",
      "  df2.loc[(4, 217244, \"+\")]\n"
     ]
    },
    {
     "data": {
      "text/html": [
       "<div>\n",
       "<style scoped>\n",
       "    .dataframe tbody tr th:only-of-type {\n",
       "        vertical-align: middle;\n",
       "    }\n",
       "\n",
       "    .dataframe tbody tr th {\n",
       "        vertical-align: top;\n",
       "    }\n",
       "\n",
       "    .dataframe thead th {\n",
       "        text-align: right;\n",
       "    }\n",
       "</style>\n",
       "<table border=\"1\" class=\"dataframe\">\n",
       "  <thead>\n",
       "    <tr style=\"text-align: right;\">\n",
       "      <th></th>\n",
       "      <th></th>\n",
       "      <th></th>\n",
       "      <th>types</th>\n",
       "      <th>flag</th>\n",
       "      <th>coding</th>\n",
       "      <th>features</th>\n",
       "      <th>annotated_types</th>\n",
       "      <th>annotated</th>\n",
       "      <th>usefulish</th>\n",
       "    </tr>\n",
       "    <tr>\n",
       "      <th>chr</th>\n",
       "      <th>pos</th>\n",
       "      <th>strand</th>\n",
       "      <th></th>\n",
       "      <th></th>\n",
       "      <th></th>\n",
       "      <th></th>\n",
       "      <th></th>\n",
       "      <th></th>\n",
       "      <th></th>\n",
       "    </tr>\n",
       "  </thead>\n",
       "  <tbody>\n",
       "    <tr>\n",
       "      <th>4.0</th>\n",
       "      <th>217244</th>\n",
       "      <th>+</th>\n",
       "      <td>[mRNA, mRNA]</td>\n",
       "      <td>False</td>\n",
       "      <td>False</td>\n",
       "      <td>True</td>\n",
       "      <td>[mRNA, mRNA]</td>\n",
       "      <td>True</td>\n",
       "      <td>True</td>\n",
       "    </tr>\n",
       "  </tbody>\n",
       "</table>\n",
       "</div>"
      ],
      "text/plain": [
       "                          types   flag  coding  features annotated_types  \\\n",
       "chr pos    strand                                                          \n",
       "4.0 217244 +       [mRNA, mRNA]  False   False      True    [mRNA, mRNA]   \n",
       "\n",
       "                   annotated  usefulish  \n",
       "chr pos    strand                        \n",
       "4.0 217244 +            True       True  "
      ]
     },
     "execution_count": 54,
     "metadata": {},
     "output_type": "execute_result"
    }
   ],
   "source": [
    "df2.loc[(4, 217244, \"+\")]"
   ]
  },
  {
   "cell_type": "code",
   "execution_count": 55,
   "id": "a084c9ac-cd8a-45f9-93c2-a7ae49324b98",
   "metadata": {},
   "outputs": [
    {
     "data": {
      "text/html": [
       "<div>\n",
       "<style scoped>\n",
       "    .dataframe tbody tr th:only-of-type {\n",
       "        vertical-align: middle;\n",
       "    }\n",
       "\n",
       "    .dataframe tbody tr th {\n",
       "        vertical-align: top;\n",
       "    }\n",
       "\n",
       "    .dataframe thead th {\n",
       "        text-align: right;\n",
       "    }\n",
       "</style>\n",
       "<table border=\"1\" class=\"dataframe\">\n",
       "  <thead>\n",
       "    <tr style=\"text-align: right;\">\n",
       "      <th></th>\n",
       "      <th>chr</th>\n",
       "      <th>start</th>\n",
       "      <th>end</th>\n",
       "      <th>strand</th>\n",
       "      <th>type</th>\n",
       "    </tr>\n",
       "  </thead>\n",
       "  <tbody>\n",
       "    <tr>\n",
       "      <th>0</th>\n",
       "      <td>1.0</td>\n",
       "      <td>335</td>\n",
       "      <td>649</td>\n",
       "      <td>+</td>\n",
       "      <td>gene</td>\n",
       "    </tr>\n",
       "    <tr>\n",
       "      <th>1</th>\n",
       "      <td>1.0</td>\n",
       "      <td>538</td>\n",
       "      <td>792</td>\n",
       "      <td>+</td>\n",
       "      <td>gene</td>\n",
       "    </tr>\n",
       "    <tr>\n",
       "      <th>2</th>\n",
       "      <td>1.0</td>\n",
       "      <td>1807</td>\n",
       "      <td>2169</td>\n",
       "      <td>-</td>\n",
       "      <td>gene</td>\n",
       "    </tr>\n",
       "    <tr>\n",
       "      <th>3</th>\n",
       "      <td>1.0</td>\n",
       "      <td>2480</td>\n",
       "      <td>2707</td>\n",
       "      <td>+</td>\n",
       "      <td>gene</td>\n",
       "    </tr>\n",
       "    <tr>\n",
       "      <th>4</th>\n",
       "      <td>1.0</td>\n",
       "      <td>7013</td>\n",
       "      <td>9049</td>\n",
       "      <td>-</td>\n",
       "      <td>gene</td>\n",
       "    </tr>\n",
       "  </tbody>\n",
       "</table>\n",
       "</div>"
      ],
      "text/plain": [
       "   chr  start   end strand  type\n",
       "0  1.0    335   649      +  gene\n",
       "1  1.0    538   792      +  gene\n",
       "2  1.0   1807  2169      -  gene\n",
       "3  1.0   2480  2707      +  gene\n",
       "4  1.0   7013  9049      -  gene"
      ]
     },
     "execution_count": 55,
     "metadata": {},
     "output_type": "execute_result"
    }
   ],
   "source": [
    "feat = pd.read_table(\"/outs/features.txt\", sep=' ')\n",
    "# feat = pd.read_table(\"test/test_feat.txt\", sep=' ')\n",
    "feat.head()"
   ]
  },
  {
   "cell_type": "code",
   "execution_count": 56,
   "id": "c7c8baf9-d48a-4ea0-8759-53b86deae338",
   "metadata": {},
   "outputs": [],
   "source": [
    "Feat = namedtuple('Feat', ['chr', 'start', 'end', 'strand', 'type'], defaults = (False,))"
   ]
  },
  {
   "cell_type": "code",
   "execution_count": 57,
   "id": "2e31d5ac-206d-44dd-8741-64b424fa6327",
   "metadata": {},
   "outputs": [],
   "source": [
    "dists = defaultdict(list)\n",
    "for row in feat.itertuples(index=False):\n",
    "    for i in range(row.start, row.end+1):\n",
    "        item = Feat(row.chr, row.start, row.end, row.strand, row.type)\n",
    "        dists[(row.chr, i, row.strand)].append(item)"
   ]
  },
  {
   "cell_type": "code",
   "execution_count": 58,
   "id": "b03342b3-f68e-4109-9d8b-81e9e1f5a6c7",
   "metadata": {},
   "outputs": [
    {
     "data": {
      "text/plain": [
       "[(1.0, 335, '+'),\n",
       " (1.0, 336, '+'),\n",
       " (1.0, 337, '+'),\n",
       " (1.0, 338, '+'),\n",
       " (1.0, 339, '+')]"
      ]
     },
     "execution_count": 58,
     "metadata": {},
     "output_type": "execute_result"
    }
   ],
   "source": [
    "list(dists.keys())[:5]"
   ]
  },
  {
   "cell_type": "code",
   "execution_count": 59,
   "id": "9379325e-b74f-4cbe-b0de-c6f3703e84aa",
   "metadata": {},
   "outputs": [
    {
     "data": {
      "text/plain": [
       "[[Feat(chr=1.0, start=335, end=649, strand='+', type='gene')],\n",
       " [Feat(chr=1.0, start=335, end=649, strand='+', type='gene')],\n",
       " [Feat(chr=1.0, start=335, end=649, strand='+', type='gene')],\n",
       " [Feat(chr=1.0, start=335, end=649, strand='+', type='gene')],\n",
       " [Feat(chr=1.0, start=335, end=649, strand='+', type='gene')]]"
      ]
     },
     "execution_count": 59,
     "metadata": {},
     "output_type": "execute_result"
    }
   ],
   "source": [
    "list(dists.values())[:5]"
   ]
  },
  {
   "cell_type": "code",
   "execution_count": 60,
   "id": "aa884de4-cd89-492a-b600-27a058047a47",
   "metadata": {},
   "outputs": [],
   "source": [
    "d_tss = {}\n",
    "for dist in dists:\n",
    "    if dist[2] == \"+\":\n",
    "        d_tss[dist] = (sum(map(lambda item: dist[1] - item.start, dists[dist]))/len(dists[dist]))\n",
    "    elif dist[2] == \"-\":\n",
    "        d_tss[dist] = (sum(map(lambda item: item.end - dist[1], dists[dist]))/len(dists[dist]))"
   ]
  },
  {
   "cell_type": "code",
   "execution_count": 61,
   "id": "3dc9faaa-3047-4d5e-b087-2babc8a7d878",
   "metadata": {},
   "outputs": [
    {
     "data": {
      "text/html": [
       "<div>\n",
       "<style scoped>\n",
       "    .dataframe tbody tr th:only-of-type {\n",
       "        vertical-align: middle;\n",
       "    }\n",
       "\n",
       "    .dataframe tbody tr th {\n",
       "        vertical-align: top;\n",
       "    }\n",
       "\n",
       "    .dataframe thead th {\n",
       "        text-align: right;\n",
       "    }\n",
       "</style>\n",
       "<table border=\"1\" class=\"dataframe\">\n",
       "  <thead>\n",
       "    <tr style=\"text-align: right;\">\n",
       "      <th></th>\n",
       "      <th>chr</th>\n",
       "      <th>pos</th>\n",
       "      <th>strand</th>\n",
       "      <th>distance</th>\n",
       "    </tr>\n",
       "  </thead>\n",
       "  <tbody>\n",
       "    <tr>\n",
       "      <th>0</th>\n",
       "      <td>1.0</td>\n",
       "      <td>335</td>\n",
       "      <td>+</td>\n",
       "      <td>0.0</td>\n",
       "    </tr>\n",
       "    <tr>\n",
       "      <th>1</th>\n",
       "      <td>1.0</td>\n",
       "      <td>336</td>\n",
       "      <td>+</td>\n",
       "      <td>1.0</td>\n",
       "    </tr>\n",
       "    <tr>\n",
       "      <th>2</th>\n",
       "      <td>1.0</td>\n",
       "      <td>337</td>\n",
       "      <td>+</td>\n",
       "      <td>2.0</td>\n",
       "    </tr>\n",
       "    <tr>\n",
       "      <th>3</th>\n",
       "      <td>1.0</td>\n",
       "      <td>338</td>\n",
       "      <td>+</td>\n",
       "      <td>3.0</td>\n",
       "    </tr>\n",
       "    <tr>\n",
       "      <th>4</th>\n",
       "      <td>1.0</td>\n",
       "      <td>339</td>\n",
       "      <td>+</td>\n",
       "      <td>4.0</td>\n",
       "    </tr>\n",
       "  </tbody>\n",
       "</table>\n",
       "</div>"
      ],
      "text/plain": [
       "   chr  pos strand  distance\n",
       "0  1.0  335      +       0.0\n",
       "1  1.0  336      +       1.0\n",
       "2  1.0  337      +       2.0\n",
       "3  1.0  338      +       3.0\n",
       "4  1.0  339      +       4.0"
      ]
     },
     "execution_count": 61,
     "metadata": {},
     "output_type": "execute_result"
    }
   ],
   "source": [
    "t = pd.DataFrame([d_tss])\n",
    "t = t.transpose()\n",
    "t = t.rename(columns={0: \"distance\"})\n",
    "t = t.reset_index(names = \"og_index\")\n",
    "t = pd.concat([pd.DataFrame(t[\"og_index\"].tolist(), columns = [\"chr\", \"pos\", \"strand\"]), t[[\"distance\"]]], axis=1) \n",
    "t.head()"
   ]
  },
  {
   "cell_type": "code",
   "execution_count": 62,
   "id": "c513dd87-c523-4780-8b17-7c5795b1c66f",
   "metadata": {},
   "outputs": [],
   "source": [
    "t.to_csv(\"/outs/distances.csv\", index=False)"
   ]
  },
  {
   "cell_type": "code",
   "execution_count": 63,
   "id": "e3cb5627-01d8-40ab-bb64-891a2406e51d",
   "metadata": {},
   "outputs": [],
   "source": [
    "Feat = namedtuple('Feat', ['chr', 'start', 'end', 'strand', 'length'], defaults = (False,))"
   ]
  },
  {
   "cell_type": "code",
   "execution_count": 64,
   "id": "c0ef3f39-bbaa-4d22-8bf1-6e859508c59d",
   "metadata": {},
   "outputs": [],
   "source": [
    "pos = defaultdict(list)\n",
    "for row in feat.itertuples(index=False):\n",
    "    for i in range(row.start, row.end+1):\n",
    "        item = Feat(row.chr, row.start, row.end, row.strand, row.end-row.start)\n",
    "        pos[(row.chr, i, row.strand)].append(item)"
   ]
  },
  {
   "cell_type": "code",
   "execution_count": 65,
   "id": "7f61c00d-59a6-4eb6-966d-c5c03ef8c049",
   "metadata": {},
   "outputs": [],
   "source": [
    "feat_dict = {}\n",
    "for loc in pos:\n",
    "    val = 0\n",
    "    for l in pos[loc]:\n",
    "        val += l.length\n",
    "    val = val/len(pos[loc])\n",
    "    feat_dict[loc] = val"
   ]
  },
  {
   "cell_type": "code",
   "execution_count": 66,
   "id": "fc1d01c8-7691-4dd5-b4d8-34a7f58ce8af",
   "metadata": {},
   "outputs": [
    {
     "data": {
      "text/plain": [
       "1505.6666666666667"
      ]
     },
     "execution_count": 66,
     "metadata": {},
     "output_type": "execute_result"
    }
   ],
   "source": [
    "(1769+1451+1297)/3"
   ]
  },
  {
   "cell_type": "code",
   "execution_count": 67,
   "id": "2d5b2e64-6584-48af-b054-143489f9e026",
   "metadata": {},
   "outputs": [
    {
     "data": {
      "text/html": [
       "<div>\n",
       "<style scoped>\n",
       "    .dataframe tbody tr th:only-of-type {\n",
       "        vertical-align: middle;\n",
       "    }\n",
       "\n",
       "    .dataframe tbody tr th {\n",
       "        vertical-align: top;\n",
       "    }\n",
       "\n",
       "    .dataframe thead th {\n",
       "        text-align: right;\n",
       "    }\n",
       "</style>\n",
       "<table border=\"1\" class=\"dataframe\">\n",
       "  <thead>\n",
       "    <tr style=\"text-align: right;\">\n",
       "      <th></th>\n",
       "      <th>chr</th>\n",
       "      <th>pos</th>\n",
       "      <th>strand</th>\n",
       "      <th>length</th>\n",
       "    </tr>\n",
       "  </thead>\n",
       "  <tbody>\n",
       "    <tr>\n",
       "      <th>0</th>\n",
       "      <td>1.0</td>\n",
       "      <td>335</td>\n",
       "      <td>+</td>\n",
       "      <td>314.0</td>\n",
       "    </tr>\n",
       "    <tr>\n",
       "      <th>1</th>\n",
       "      <td>1.0</td>\n",
       "      <td>336</td>\n",
       "      <td>+</td>\n",
       "      <td>314.0</td>\n",
       "    </tr>\n",
       "    <tr>\n",
       "      <th>2</th>\n",
       "      <td>1.0</td>\n",
       "      <td>337</td>\n",
       "      <td>+</td>\n",
       "      <td>314.0</td>\n",
       "    </tr>\n",
       "    <tr>\n",
       "      <th>3</th>\n",
       "      <td>1.0</td>\n",
       "      <td>338</td>\n",
       "      <td>+</td>\n",
       "      <td>314.0</td>\n",
       "    </tr>\n",
       "    <tr>\n",
       "      <th>4</th>\n",
       "      <td>1.0</td>\n",
       "      <td>339</td>\n",
       "      <td>+</td>\n",
       "      <td>314.0</td>\n",
       "    </tr>\n",
       "  </tbody>\n",
       "</table>\n",
       "</div>"
      ],
      "text/plain": [
       "   chr  pos strand  length\n",
       "0  1.0  335      +   314.0\n",
       "1  1.0  336      +   314.0\n",
       "2  1.0  337      +   314.0\n",
       "3  1.0  338      +   314.0\n",
       "4  1.0  339      +   314.0"
      ]
     },
     "execution_count": 67,
     "metadata": {},
     "output_type": "execute_result"
    }
   ],
   "source": [
    "f = pd.DataFrame([feat_dict])\n",
    "f = f.transpose()\n",
    "f = f.rename(columns={0: \"length\"})\n",
    "f = f.reset_index(names = \"og_index\")\n",
    "f = pd.concat([pd.DataFrame(f[\"og_index\"].tolist(), columns = [\"chr\", \"pos\", \"strand\"]), f[[\"length\"]]], axis=1) \n",
    "f.head()"
   ]
  },
  {
   "cell_type": "code",
   "execution_count": 68,
   "id": "6113b066-b2b7-4e5f-83a7-e6301e556701",
   "metadata": {},
   "outputs": [],
   "source": [
    "f.to_csv(\"/outs/lengths.csv\", index=False)"
   ]
  },
  {
   "cell_type": "code",
   "execution_count": 69,
   "id": "d6d40c8b-6051-4ce9-9a27-68bbd92ae123",
   "metadata": {},
   "outputs": [
    {
     "data": {
      "text/plain": [
       "[(1.0, 335, '+'),\n",
       " (1.0, 336, '+'),\n",
       " (1.0, 337, '+'),\n",
       " (1.0, 338, '+'),\n",
       " (1.0, 339, '+')]"
      ]
     },
     "execution_count": 69,
     "metadata": {},
     "output_type": "execute_result"
    }
   ],
   "source": [
    "list(feat_dict.keys())[:5]"
   ]
  },
  {
   "cell_type": "code",
   "execution_count": 70,
   "id": "3a8407de-578d-451d-aac7-2f8a3e337efd",
   "metadata": {},
   "outputs": [
    {
     "data": {
      "text/html": [
       "<div>\n",
       "<style scoped>\n",
       "    .dataframe tbody tr th:only-of-type {\n",
       "        vertical-align: middle;\n",
       "    }\n",
       "\n",
       "    .dataframe tbody tr th {\n",
       "        vertical-align: top;\n",
       "    }\n",
       "\n",
       "    .dataframe thead th {\n",
       "        text-align: right;\n",
       "    }\n",
       "</style>\n",
       "<table border=\"1\" class=\"dataframe\">\n",
       "  <thead>\n",
       "    <tr style=\"text-align: right;\">\n",
       "      <th></th>\n",
       "      <th>chr</th>\n",
       "      <th>pos</th>\n",
       "      <th>strand</th>\n",
       "      <th>length</th>\n",
       "    </tr>\n",
       "  </thead>\n",
       "  <tbody>\n",
       "  </tbody>\n",
       "</table>\n",
       "</div>"
      ],
      "text/plain": [
       "Empty DataFrame\n",
       "Columns: [chr, pos, strand, length]\n",
       "Index: []"
      ]
     },
     "execution_count": 70,
     "metadata": {},
     "output_type": "execute_result"
    }
   ],
   "source": [
    "f[(f[\"chr\"]==4) & (f[\"pos\"] == 217244)]\n",
    "# feat_dict[(4, 217244, '+')]"
   ]
  },
  {
   "cell_type": "code",
   "execution_count": 71,
   "id": "1644ddd1-f7c5-4a0e-b795-aa304738e80f",
   "metadata": {},
   "outputs": [
    {
     "data": {
      "text/plain": [
       "[Feat(chr=12.0, start=366398, end=368519, strand='-', type='gene_same')]"
      ]
     },
     "execution_count": 71,
     "metadata": {},
     "output_type": "execute_result"
    }
   ],
   "source": [
    "[key for key in d if key[0] == 12 and (key[1] == 366398 or key[2] == 366398)]"
   ]
  },
  {
   "cell_type": "code",
   "execution_count": 72,
   "id": "e8e42a33-d87b-43ba-84b1-6b5f89775bcc",
   "metadata": {},
   "outputs": [
    {
     "data": {
      "text/plain": [
       "[]"
      ]
     },
     "execution_count": 72,
     "metadata": {},
     "output_type": "execute_result"
    }
   ],
   "source": [
    "[key for key in d if key[0] == 12 and (key[1] ==  366347 or key[2] == 366347)]"
   ]
  },
  {
   "cell_type": "code",
   "execution_count": 73,
   "id": "eca605a4-4e83-4c42-9e19-1d59c0b65ae4",
   "metadata": {},
   "outputs": [
    {
     "data": {
      "text/plain": [
       "[Feat(chr=12.0, start=366235, end=366520, strand='+', type='snRNA_gene_same'),\n",
       " Feat(chr=12.0, start=366398, end=368519, strand='-', type='gene_same')]"
      ]
     },
     "execution_count": 73,
     "metadata": {},
     "output_type": "execute_result"
    }
   ],
   "source": [
    "[key for key in d if key[0] == 12 and (key[1]<=366412 and key[2]>=366412)][:5]"
   ]
  },
  {
   "cell_type": "code",
   "execution_count": 74,
   "id": "49b06641-0cf4-4858-b307-ac8d495c33b9",
   "metadata": {},
   "outputs": [
    {
     "data": {
      "text/plain": [
       "[Feat(chr=1.0, start=5075, end=6237, strand='-', type='SUTs_opp'),\n",
       " Feat(chr=1.0, start=7276, end=9260, strand='-', type='ORFs_opp'),\n",
       " Feat(chr=1.0, start=9368, end=9600, strand='+', type='SUTs_same'),\n",
       " Feat(chr=1.0, start=9807, end=10460, strand='+', type='gene_same'),\n",
       " Feat(chr=1.0, start=10732, end=11140, strand='-', type='CUTs_opp')]"
      ]
     },
     "execution_count": 74,
     "metadata": {},
     "output_type": "execute_result"
    }
   ],
   "source": [
    "list(ua_dist.keys())[:5]"
   ]
  },
  {
   "cell_type": "code",
   "execution_count": 75,
   "id": "5ee4953b-0277-4935-930a-b74e6a0b8450",
   "metadata": {},
   "outputs": [
    {
     "data": {
      "text/plain": [
       "[]"
      ]
     },
     "execution_count": 75,
     "metadata": {},
     "output_type": "execute_result"
    }
   ],
   "source": [
    "[]"
   ]
  },
  {
   "cell_type": "code",
   "execution_count": 76,
   "id": "e38d2ea7-b899-43b0-8125-e0c7d3d6954f",
   "metadata": {},
   "outputs": [
    {
     "data": {
      "text/plain": [
       "{'CUTs',\n",
       " 'LTR_retrotransposon',\n",
       " 'ORFs',\n",
       " 'SUTs',\n",
       " 'XUTs',\n",
       " 'gene',\n",
       " 'ncRNA_gene',\n",
       " 'other',\n",
       " 'snRNA_gene',\n",
       " 'snoRNA_gene',\n",
       " 'telomerase_RNA_gene',\n",
       " 'transposable_element_gene'}"
      ]
     },
     "execution_count": 76,
     "metadata": {},
     "output_type": "execute_result"
    }
   ],
   "source": [
    "set(feat[\"type\"])"
   ]
  },
  {
   "cell_type": "code",
   "execution_count": null,
   "id": "b753156b-1426-4ed0-99a3-b4d22a556bd2",
   "metadata": {},
   "outputs": [],
   "source": []
  }
 ],
 "metadata": {
  "kernelspec": {
   "display_name": "Python 3 (ipykernel)",
   "language": "python",
   "name": "python3"
  },
  "language_info": {
   "codemirror_mode": {
    "name": "ipython",
    "version": 3
   },
   "file_extension": ".py",
   "mimetype": "text/x-python",
   "name": "python",
   "nbconvert_exporter": "python",
   "pygments_lexer": "ipython3",
   "version": "3.12.3"
  }
 },
 "nbformat": 4,
 "nbformat_minor": 5
}
