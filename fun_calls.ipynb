{
 "cells": [
  {
   "cell_type": "code",
   "execution_count": 1,
   "id": "6bb24491-77db-47f3-b86a-16f438cab03e",
   "metadata": {},
   "outputs": [],
   "source": [
    "import subprocess\n",
    "import random\n",
    "import pandas as pd"
   ]
  },
  {
   "cell_type": "markdown",
   "id": "546cd156-f39c-4c57-b051-7e8793b71ba4",
   "metadata": {},
   "source": [
    "base.type + rep.fitted + protein +\n",
    "                    transcripts + collision + distance)^2 + transcripts:length + I(distance^2)"
   ]
  },
  {
   "cell_type": "code",
   "execution_count": 2,
   "id": "e74aaa3a-c9ae-4269-b9d2-56c8ca894ce8",
   "metadata": {},
   "outputs": [],
   "source": [
    "variables = pd.Series(['base.type',\n",
    "'rep.fitted',             \n",
    "'protein',            \n",
    "'transcripts' ,               \n",
    "'collision'    ,              \n",
    "'distance'      ,            \n",
    "'base.type:rep.fitted'   , \n",
    "'base.type:protein'   ,\n",
    "'base.type:transcripts',   \n",
    "'base.type:collision'     ,\n",
    "'base.type:distance'      ,\n",
    "'rep.fitted:protein'    ,\n",
    "'rep.fitted:transcripts'    ,\n",
    "'rep.fitted:collision'      ,\n",
    "'rep.fitted:distance'       ,\n",
    "'protein:transcripts'   ,\n",
    "'protein:collision'     ,\n",
    "'protein:distance'       ,\n",
    "'transcripts:collision'     ,\n",
    "'transcripts:distance'      ,\n",
    "'collision:distance'        ,\n",
    "'transcripts:length',\n",
    "'I(distance^2)'])"
   ]
  },
  {
   "cell_type": "code",
   "execution_count": 3,
   "id": "b42cf7a2-9818-4222-9da2-734072c13c7f",
   "metadata": {},
   "outputs": [
    {
     "data": {
      "text/plain": [
       "[False, True, True, True, True, True, True, False, False, True]"
      ]
     },
     "execution_count": 3,
     "metadata": {},
     "output_type": "execute_result"
    }
   ],
   "source": [
    "random.choices([True, False], k=10)"
   ]
  },
  {
   "cell_type": "code",
   "execution_count": 4,
   "id": "da411c5a-eb94-44e1-94ee-17a25b92fc89",
   "metadata": {},
   "outputs": [],
   "source": [
    "with open(\"/code/stepper_pro.R\") as f:\n",
    "    file_contents = f.read()"
   ]
  },
  {
   "cell_type": "code",
   "execution_count": 5,
   "id": "952e5bb9-06e3-4799-bb1c-0c94c60f3b9e",
   "metadata": {},
   "outputs": [
    {
     "data": {
      "text/plain": [
       "'library(tidyverse)\\nlibrary(MASS)\\n\\nprint(\"loading data\")\\nd <- read.delim(\"/outs/the_greater_big_data_file_bigger.txt\", header=TRUE, sep=\" \")\\nprint(\"loaded data. running models. breathe.\")\\n\\nd$rep.fitted <- (d$rep.fitted.dip + d$rep.fitted.hap)/2\\nd$collision <- (d$collision.dip + d$collision.hap)/2\\n\\n# d <- d %>% filter(transcripts < 15)\\nd <- d %>% filter(transcripts < 2.5e4)\\n\\nd <- d %>% filter(!is.na(length))\\n\\nhead(d)\\n\\n## Stepping again for SNM\\n\\nlm1 <- glm(SNM ~ \\n             PLACEHOLDER, d, family=\"binomial\")\\nprint(summary(lm1))\\nprint(1 - (summary(lm1)$deviance/summary(lm1)$null.deviance))\\n\\nlm0 <- glm(SNM ~ base.type + rep.fitted, d, family=\"binomial\")\\nprint(summary(lm0))\\nprint(1 - (summary(lm0)$deviance/summary(lm0)$null.deviance))\\n\\nlm2 <- glm(SNM ~ (base.type + rep.fitted + protein +\\n                    transcripts + collision + distance)^2 + transcripts:length, \\n           d, family=\"binomial\")\\nprint(summary(lm2))\\nprint(1 - (summary(lm2)$deviance/summary(lm2)$null.deviance))\\n\\nmod <- stepAIC(lm1, direction=\"both\", scope=list(upper=lm2,lower=lm0))\\n\\nprint(summary(mod))'"
      ]
     },
     "execution_count": 5,
     "metadata": {},
     "output_type": "execute_result"
    }
   ],
   "source": [
    "file_contents"
   ]
  },
  {
   "cell_type": "code",
   "execution_count": 6,
   "id": "957cdd5e-1eb7-4a53-be02-bcdbd20fa771",
   "metadata": {},
   "outputs": [],
   "source": [
    "for i in range(2):\n",
    "    rand = random.choices([True, False], k=len(variables)-2)\n",
    "    name = \"\".join([str(item)[0] for item in rand])\n",
    "    mask = [True, True] + rand\n",
    "    replacement = \" + \".join(variables[mask])\n",
    "    with open(\"/temp.R\", \"w\") as w:\n",
    "        w.write(file_contents.replace(\"PLACEHOLDER\", replacement))\n",
    "    with open(f'/{name}.out', 'w') as stdout, open('/logfile.err', 'a') as stderr:\n",
    "        subprocess.Popen(\"nohup Rscript /temp.R &\", shell=True, stdout=stdout, stderr=stderr)"
   ]
  },
  {
   "cell_type": "code",
   "execution_count": null,
   "id": "27fc7331-23aa-4f11-8689-78ea7653a056",
   "metadata": {},
   "outputs": [],
   "source": []
  }
 ],
 "metadata": {
  "kernelspec": {
   "display_name": "Python 3 (ipykernel)",
   "language": "python",
   "name": "python3"
  },
  "language_info": {
   "codemirror_mode": {
    "name": "ipython",
    "version": 3
   },
   "file_extension": ".py",
   "mimetype": "text/x-python",
   "name": "python",
   "nbconvert_exporter": "python",
   "pygments_lexer": "ipython3",
   "version": "3.12.3"
  }
 },
 "nbformat": 4,
 "nbformat_minor": 5
}
