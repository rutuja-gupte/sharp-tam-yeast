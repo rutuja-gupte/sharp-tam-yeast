{
 "cells": [
  {
   "cell_type": "code",
   "execution_count": 1,
   "id": "181cbd23-2f69-4506-b879-ba68ee9942dd",
   "metadata": {},
   "outputs": [],
   "source": [
    "from collections import defaultdict\n",
    "from collections import namedtuple\n",
    "import pandas as pd\n",
    "import json\n",
    "import time\n",
    "import copy"
   ]
  },
  {
   "cell_type": "code",
   "execution_count": 2,
   "id": "608978e7-c80d-411c-a77a-e28444a1a655",
   "metadata": {},
   "outputs": [
    {
     "data": {
      "text/html": [
       "<div>\n",
       "<style scoped>\n",
       "    .dataframe tbody tr th:only-of-type {\n",
       "        vertical-align: middle;\n",
       "    }\n",
       "\n",
       "    .dataframe tbody tr th {\n",
       "        vertical-align: top;\n",
       "    }\n",
       "\n",
       "    .dataframe thead th {\n",
       "        text-align: right;\n",
       "    }\n",
       "</style>\n",
       "<table border=\"1\" class=\"dataframe\">\n",
       "  <thead>\n",
       "    <tr style=\"text-align: right;\">\n",
       "      <th></th>\n",
       "      <th>chr</th>\n",
       "      <th>start</th>\n",
       "      <th>end</th>\n",
       "      <th>strand</th>\n",
       "      <th>type</th>\n",
       "    </tr>\n",
       "  </thead>\n",
       "  <tbody>\n",
       "    <tr>\n",
       "      <th>0</th>\n",
       "      <td>1.0</td>\n",
       "      <td>335</td>\n",
       "      <td>649</td>\n",
       "      <td>+</td>\n",
       "      <td>gene</td>\n",
       "    </tr>\n",
       "    <tr>\n",
       "      <th>1</th>\n",
       "      <td>1.0</td>\n",
       "      <td>538</td>\n",
       "      <td>792</td>\n",
       "      <td>+</td>\n",
       "      <td>gene</td>\n",
       "    </tr>\n",
       "    <tr>\n",
       "      <th>2</th>\n",
       "      <td>1.0</td>\n",
       "      <td>1807</td>\n",
       "      <td>2169</td>\n",
       "      <td>-</td>\n",
       "      <td>gene</td>\n",
       "    </tr>\n",
       "    <tr>\n",
       "      <th>3</th>\n",
       "      <td>1.0</td>\n",
       "      <td>2480</td>\n",
       "      <td>2707</td>\n",
       "      <td>+</td>\n",
       "      <td>gene</td>\n",
       "    </tr>\n",
       "    <tr>\n",
       "      <th>4</th>\n",
       "      <td>1.0</td>\n",
       "      <td>7013</td>\n",
       "      <td>9049</td>\n",
       "      <td>-</td>\n",
       "      <td>gene</td>\n",
       "    </tr>\n",
       "  </tbody>\n",
       "</table>\n",
       "</div>"
      ],
      "text/plain": [
       "   chr  start   end strand  type\n",
       "0  1.0    335   649      +  gene\n",
       "1  1.0    538   792      +  gene\n",
       "2  1.0   1807  2169      -  gene\n",
       "3  1.0   2480  2707      +  gene\n",
       "4  1.0   7013  9049      -  gene"
      ]
     },
     "execution_count": 2,
     "metadata": {},
     "output_type": "execute_result"
    }
   ],
   "source": [
    "feat = pd.read_table(\"clean/features.txt\", sep=' ')\n",
    "feat.head()"
   ]
  },
  {
   "cell_type": "code",
   "execution_count": 3,
   "id": "73e0a2d3-a6a7-41e6-b6be-c3c44f910bd1",
   "metadata": {},
   "outputs": [],
   "source": [
    "Feat = namedtuple('Feat', ['chr', 'start', 'end', 'strand', 'type'], defaults = (False,))"
   ]
  },
  {
   "cell_type": "code",
   "execution_count": 4,
   "id": "5357c4fa-faf0-423d-8398-6d9d82e61889",
   "metadata": {},
   "outputs": [],
   "source": [
    "pos = defaultdict(list)\n",
    "for row in feat.itertuples(index=False):\n",
    "    for i in range(row.start, row.end+1):\n",
    "        item = Feat(row.chr, row.start, row.end, row.strand, row.type)\n",
    "        pos[(row.chr, i, row.strand)].append(item)"
   ]
  },
  {
   "cell_type": "code",
   "execution_count": 5,
   "id": "8b9ae7aa-212b-4cfb-aa27-9682bb872dd8",
   "metadata": {},
   "outputs": [
    {
     "data": {
      "text/html": [
       "<div>\n",
       "<style scoped>\n",
       "    .dataframe tbody tr th:only-of-type {\n",
       "        vertical-align: middle;\n",
       "    }\n",
       "\n",
       "    .dataframe tbody tr th {\n",
       "        vertical-align: top;\n",
       "    }\n",
       "\n",
       "    .dataframe thead th {\n",
       "        text-align: right;\n",
       "    }\n",
       "</style>\n",
       "<table border=\"1\" class=\"dataframe\">\n",
       "  <thead>\n",
       "    <tr style=\"text-align: right;\">\n",
       "      <th></th>\n",
       "      <th>pos</th>\n",
       "      <th>value</th>\n",
       "      <th>chr</th>\n",
       "      <th>reads</th>\n",
       "      <th>strand</th>\n",
       "    </tr>\n",
       "  </thead>\n",
       "  <tbody>\n",
       "    <tr>\n",
       "      <th>0</th>\n",
       "      <td>156</td>\n",
       "      <td>0.481988</td>\n",
       "      <td>1</td>\n",
       "      <td>1</td>\n",
       "      <td>+</td>\n",
       "    </tr>\n",
       "    <tr>\n",
       "      <th>1</th>\n",
       "      <td>5793</td>\n",
       "      <td>0.481988</td>\n",
       "      <td>1</td>\n",
       "      <td>1</td>\n",
       "      <td>+</td>\n",
       "    </tr>\n",
       "    <tr>\n",
       "      <th>2</th>\n",
       "      <td>5871</td>\n",
       "      <td>0.481988</td>\n",
       "      <td>1</td>\n",
       "      <td>1</td>\n",
       "      <td>+</td>\n",
       "    </tr>\n",
       "    <tr>\n",
       "      <th>3</th>\n",
       "      <td>5883</td>\n",
       "      <td>0.481988</td>\n",
       "      <td>1</td>\n",
       "      <td>1</td>\n",
       "      <td>+</td>\n",
       "    </tr>\n",
       "    <tr>\n",
       "      <th>4</th>\n",
       "      <td>5889</td>\n",
       "      <td>0.481988</td>\n",
       "      <td>1</td>\n",
       "      <td>1</td>\n",
       "      <td>+</td>\n",
       "    </tr>\n",
       "  </tbody>\n",
       "</table>\n",
       "</div>"
      ],
      "text/plain": [
       "    pos     value  chr  reads strand\n",
       "0   156  0.481988    1      1      +\n",
       "1  5793  0.481988    1      1      +\n",
       "2  5871  0.481988    1      1      +\n",
       "3  5883  0.481988    1      1      +\n",
       "4  5889  0.481988    1      1      +"
      ]
     },
     "execution_count": 5,
     "metadata": {},
     "output_type": "execute_result"
    }
   ],
   "source": [
    "net = pd.read_table(\"clean/net.txt\", sep=' ')\n",
    "net.head()"
   ]
  },
  {
   "cell_type": "code",
   "execution_count": 6,
   "id": "6b83dbcf-9199-432a-91ee-df541f68507e",
   "metadata": {},
   "outputs": [],
   "source": [
    "pos[(14, 230108, \"-\")]\n",
    "\n",
    "f = set()\n",
    "for i in range(230105, 230673):\n",
    "    f.update(pos[(14, i, \"-\")])\n",
    "    f.update(pos[(14, i, \"+\")])\n",
    "    "
   ]
  },
  {
   "cell_type": "code",
   "execution_count": 26,
   "id": "6004343c-3378-492d-a04c-5e9935bbd592",
   "metadata": {},
   "outputs": [
    {
     "data": {
      "text/plain": [
       "{Feat(chr=14.0, start=230105, end=230672, strand='-', type='snRNA_gene'),\n",
       " Feat(chr=14.0, start=230126, end=230670, strand='-', type='other')}"
      ]
     },
     "execution_count": 26,
     "metadata": {},
     "output_type": "execute_result"
    }
   ],
   "source": [
    "f"
   ]
  },
  {
   "cell_type": "code",
   "execution_count": 18,
   "id": "80f36533-4d8e-4263-ae76-49b673501cf5",
   "metadata": {},
   "outputs": [
    {
     "data": {
      "text/html": [
       "<div>\n",
       "<style scoped>\n",
       "    .dataframe tbody tr th:only-of-type {\n",
       "        vertical-align: middle;\n",
       "    }\n",
       "\n",
       "    .dataframe tbody tr th {\n",
       "        vertical-align: top;\n",
       "    }\n",
       "\n",
       "    .dataframe thead th {\n",
       "        text-align: right;\n",
       "    }\n",
       "</style>\n",
       "<table border=\"1\" class=\"dataframe\">\n",
       "  <thead>\n",
       "    <tr style=\"text-align: right;\">\n",
       "      <th></th>\n",
       "      <th>chr</th>\n",
       "      <th>start</th>\n",
       "      <th>end</th>\n",
       "      <th>strand</th>\n",
       "      <th>type</th>\n",
       "    </tr>\n",
       "  </thead>\n",
       "  <tbody>\n",
       "    <tr>\n",
       "      <th>15343</th>\n",
       "      <td>14.0</td>\n",
       "      <td>230105</td>\n",
       "      <td>230672</td>\n",
       "      <td>-</td>\n",
       "      <td>snRNA_gene</td>\n",
       "    </tr>\n",
       "  </tbody>\n",
       "</table>\n",
       "</div>"
      ],
      "text/plain": [
       "        chr   start     end strand        type\n",
       "15343  14.0  230105  230672      -  snRNA_gene"
      ]
     },
     "execution_count": 18,
     "metadata": {},
     "output_type": "execute_result"
    }
   ],
   "source": [
    "feat[(feat[\"start\"] == 230105)]"
   ]
  },
  {
   "cell_type": "code",
   "execution_count": 20,
   "id": "b238f5cd-1439-4a31-b76c-c67209b4486d",
   "metadata": {},
   "outputs": [
    {
     "data": {
      "text/plain": [
       "pos                                               129469231\n",
       "value                                          62348.499177\n",
       "chr                                                    7868\n",
       "reads                                                129357\n",
       "strand    ++++++++++++++++++++++++----------------------...\n",
       "dtype: object"
      ]
     },
     "execution_count": 20,
     "metadata": {},
     "output_type": "execute_result"
    }
   ],
   "source": [
    "net[(net[\"chr\"] == 14) & (net[\"pos\"] >= 230105) & (net[\"pos\"] < 230672)].sum()"
   ]
  },
  {
   "cell_type": "code",
   "execution_count": 30,
   "id": "08eb0671-e7b2-4810-af9b-4bd19d7e0ab7",
   "metadata": {},
   "outputs": [
    {
     "data": {
      "text/plain": [
       "<Axes: xlabel='pos', ylabel='reads'>"
      ]
     },
     "execution_count": 30,
     "metadata": {},
     "output_type": "execute_result"
    },
    {
     "data": {
      "image/png": "[encoded data removed]",
      "text/plain": [
       "<Figure size 640x480 with 1 Axes>"
      ]
     },
     "metadata": {},
     "output_type": "display_data"
    }
   ],
   "source": [
    "net[(net[\"chr\"] == 14) & (net[\"pos\"] >= 230000) & (net[\"pos\"] < 230672)].plot.scatter(x=\"pos\", y=\"reads\")"
   ]
  },
  {
   "cell_type": "code",
   "execution_count": 31,
   "id": "fe033a1a-bdbc-4196-822b-12598e0abaa8",
   "metadata": {},
   "outputs": [
    {
     "data": {
      "text/plain": [
       "{Feat(chr=7.0, start=939459, end=939672, strand='-', type='snRNA_gene'),\n",
       " Feat(chr=7.0, start=939494, end=939672, strand='-', type='snRNA_gene'),\n",
       " Feat(chr=7.0, start=939508, end=939676, strand='-', type='other')}"
      ]
     },
     "execution_count": 31,
     "metadata": {},
     "output_type": "execute_result"
    }
   ],
   "source": [
    "f = set()\n",
    "for i in range(939667, 939671):\n",
    "    f.update(pos[(7, i, \"-\")])\n",
    "    f.update(pos[(7, i, \"+\")])\n",
    "f"
   ]
  },
  {
   "cell_type": "code",
   "execution_count": 33,
   "id": "820ca84c-8903-4481-baba-49fbdc5dbe21",
   "metadata": {},
   "outputs": [
    {
     "data": {
      "text/plain": [
       "<Axes: xlabel='pos', ylabel='reads'>"
      ]
     },
     "execution_count": 33,
     "metadata": {},
     "output_type": "execute_result"
    },
    {
     "data": {
      "image/png": "[encoded data removed]",
      "text/plain": [
       "<Figure size 640x480 with 1 Axes>"
      ]
     },
     "metadata": {},
     "output_type": "display_data"
    }
   ],
   "source": [
    "net[(net[\"chr\"] == 7) & (net[\"pos\"] >= 939400) & (net[\"pos\"] < 939680)].plot.scatter(x=\"pos\", y=\"reads\")"
   ]
  },
  {
   "cell_type": "code",
   "execution_count": 32,
   "id": "3b589f5c-c93b-48d4-bda7-d2c20c54f2e1",
   "metadata": {},
   "outputs": [
    {
     "data": {
      "text/plain": [
       "{Feat(chr=2.0, start=680401, end=681865, strand='-', type='other'),\n",
       " Feat(chr=2.0, start=680688, end=681862, strand='-', type='snRNA_gene')}"
      ]
     },
     "execution_count": 32,
     "metadata": {},
     "output_type": "execute_result"
    }
   ],
   "source": [
    "f = set()\n",
    "for i in range(680740, 680746):\n",
    "    f.update(pos[(2, i, \"-\")])\n",
    "    f.update(pos[(2, i, \"+\")])\n",
    "f"
   ]
  },
  {
   "cell_type": "code",
   "execution_count": 34,
   "id": "d9c00eb9-7efb-480a-ae48-983d483ce6b1",
   "metadata": {},
   "outputs": [
    {
     "data": {
      "text/plain": [
       "<Axes: xlabel='pos', ylabel='reads'>"
      ]
     },
     "execution_count": 34,
     "metadata": {},
     "output_type": "execute_result"
    },
    {
     "data": {
      "image/png": "[encoded data removed]",
      "text/plain": [
       "<Figure size 640x480 with 1 Axes>"
      ]
     },
     "metadata": {},
     "output_type": "display_data"
    }
   ],
   "source": [
    "net[(net[\"chr\"] == 2) & (net[\"pos\"] >= 680000) & (net[\"pos\"] < 681900)].plot.scatter(x=\"pos\", y=\"reads\")"
   ]
  },
  {
   "cell_type": "code",
   "execution_count": null,
   "id": "002ef349-b067-4490-8c2b-67f86ad60e44",
   "metadata": {},
   "outputs": [],
   "source": []
  }
 ],
 "metadata": {
  "kernelspec": {
   "display_name": "Python 3 (ipykernel)",
   "language": "python",
   "name": "python3"
  },
  "language_info": {
   "codemirror_mode": {
    "name": "ipython",
    "version": 3
   },
   "file_extension": ".py",
   "mimetype": "text/x-python",
   "name": "python",
   "nbconvert_exporter": "python",
   "pygments_lexer": "ipython3",
   "version": "3.12.3"
  }
 },
 "nbformat": 4,
 "nbformat_minor": 5
}
